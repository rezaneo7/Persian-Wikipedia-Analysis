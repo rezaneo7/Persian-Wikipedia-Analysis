{
 "cells": [
  {
   "cell_type": "markdown",
   "metadata": {
    "application/vnd.databricks.v1+cell": {
     "inputWidgets": {},
     "nuid": "e1bffa64-f025-4833-b0a9-2c3f3b141a93",
     "showTitle": false,
     "title": ""
    },
    "id": "NogJnYucM4F5"
   },
   "source": [
    "# Data Mining Course Spark Exercise\n",
    "## Sharif University of Technology\n",
    "\n",
    "In this notebook we are going to analyze farsi wikipedia. \n",
    "Outline of the exercise:\n",
    "* Dataset preparation (5 Points)\n",
    "* Preprocessing (20 Points) \n",
    "* Exploration (15 Points) \n",
    "* TF-IDF + Search (30 Points)\n",
    "* K-Means Clustering (30 Points)\n",
    "\n",
    "You should replace the `TODO` parts with your implementation. Remeber that each `TODO` may take multiple lines and you shouldn't limit your self to one-line codes.\n",
    "\n",
    "## Prerequisites\n",
    "You should be faimilar with [tf-idf](https://en.wikipedia.org/wiki/Tf%E2%80%93idf). In this notebook you should use the following formula for tf-idf:\n",
    "$$f_{t,d}/len(d) \\times log(1 + \\frac{N}{n_t})$$\n",
    "\n",
    "You will be implementing distribuited K-means. You can familiarize your self using this [article](https://stanford.edu/~rezab/classes/cme323/S16/projects_reports/bodoia.pdf)\n",
    "\n",
    "## Warning: RDD api only\n",
    "You **can not** use Dataframe, Dataset, mllib, ml, ... apis of spark in this exercise. You should only use the [RDD api](http://spark.apache.org/docs/2.1.0/api/python/pyspark.html#pyspark.RDD)."
   ]
  },
  {
   "cell_type": "markdown",
   "metadata": {
    "application/vnd.databricks.v1+cell": {
     "inputWidgets": {},
     "nuid": "5a1311c1-5661-436b-99ac-acea029f0665",
     "showTitle": false,
     "title": ""
    },
    "id": "pD97HQx5M4F7"
   },
   "source": [
    "# Section 0: Please enter your name below\n",
    "# Name: رضا رمضان پور\n",
    "# Student Number: 95101558"
   ]
  },
  {
   "cell_type": "markdown",
   "metadata": {
    "application/vnd.databricks.v1+cell": {
     "inputWidgets": {},
     "nuid": "399aabd8-6fcf-431e-b987-e89ec294acaa",
     "showTitle": false,
     "title": ""
    },
    "id": "-l6MQ5t0M4F7"
   },
   "source": [
    "# Section 1: Dataset preparation (5 Points)\n",
    "\n",
    "This section of notebook contains only shell commands. You don't need to completely understand each command or change anything.\n",
    "\n",
    "Please run all the paragraphs sequentially."
   ]
  },
  {
   "cell_type": "code",
   "execution_count": 1,
   "metadata": {
    "colab": {
     "base_uri": "https://localhost:8080/"
    },
    "id": "_m3zco-TM9FU",
    "outputId": "bc0ec69c-55ba-45f4-b74c-477d668d3a9f"
   },
   "outputs": [
    {
     "name": "stdout",
     "output_type": "stream",
     "text": [
      "Collecting pyspark\n",
      "\u001b[?25l  Downloading https://files.pythonhosted.org/packages/f0/26/198fc8c0b98580f617cb03cb298c6056587b8f0447e20fa40c5b634ced77/pyspark-3.0.1.tar.gz (204.2MB)\n",
      "\u001b[K     |████████████████████████████████| 204.2MB 67kB/s \n",
      "\u001b[?25hCollecting py4j==0.10.9\n",
      "\u001b[?25l  Downloading https://files.pythonhosted.org/packages/9e/b6/6a4fb90cd235dc8e265a6a2067f2a2c99f0d91787f06aca4bcf7c23f3f80/py4j-0.10.9-py2.py3-none-any.whl (198kB)\n",
      "\u001b[K     |████████████████████████████████| 204kB 44.5MB/s \n",
      "\u001b[?25hBuilding wheels for collected packages: pyspark\n",
      "  Building wheel for pyspark (setup.py) ... \u001b[?25l\u001b[?25hdone\n",
      "  Created wheel for pyspark: filename=pyspark-3.0.1-py2.py3-none-any.whl size=204612243 sha256=a65c7a3042ea0b210a6fb4cec3205ad26c4923548ec3762ea4a3a71f069e8bc8\n",
      "  Stored in directory: /root/.cache/pip/wheels/5e/bd/07/031766ca628adec8435bb40f0bd83bb676ce65ff4007f8e73f\n",
      "Successfully built pyspark\n",
      "Installing collected packages: py4j, pyspark\n",
      "Successfully installed py4j-0.10.9 pyspark-3.0.1\n",
      "The following additional packages will be installed:\n",
      "  openjdk-8-jre-headless\n",
      "Suggested packages:\n",
      "  openjdk-8-demo openjdk-8-source libnss-mdns fonts-dejavu-extra\n",
      "  fonts-ipafont-gothic fonts-ipafont-mincho fonts-wqy-microhei\n",
      "  fonts-wqy-zenhei fonts-indic\n",
      "The following NEW packages will be installed:\n",
      "  openjdk-8-jdk-headless openjdk-8-jre-headless\n",
      "0 upgraded, 2 newly installed, 0 to remove and 11 not upgraded.\n",
      "Need to get 36.5 MB of archives.\n",
      "After this operation, 143 MB of additional disk space will be used.\n",
      "Selecting previously unselected package openjdk-8-jre-headless:amd64.\n",
      "(Reading database ... 144628 files and directories currently installed.)\n",
      "Preparing to unpack .../openjdk-8-jre-headless_8u272-b10-0ubuntu1~18.04_amd64.deb ...\n",
      "Unpacking openjdk-8-jre-headless:amd64 (8u272-b10-0ubuntu1~18.04) ...\n",
      "Selecting previously unselected package openjdk-8-jdk-headless:amd64.\n",
      "Preparing to unpack .../openjdk-8-jdk-headless_8u272-b10-0ubuntu1~18.04_amd64.deb ...\n",
      "Unpacking openjdk-8-jdk-headless:amd64 (8u272-b10-0ubuntu1~18.04) ...\n",
      "Setting up openjdk-8-jre-headless:amd64 (8u272-b10-0ubuntu1~18.04) ...\n",
      "update-alternatives: using /usr/lib/jvm/java-8-openjdk-amd64/jre/bin/orbd to provide /usr/bin/orbd (orbd) in auto mode\n",
      "update-alternatives: using /usr/lib/jvm/java-8-openjdk-amd64/jre/bin/servertool to provide /usr/bin/servertool (servertool) in auto mode\n",
      "update-alternatives: using /usr/lib/jvm/java-8-openjdk-amd64/jre/bin/tnameserv to provide /usr/bin/tnameserv (tnameserv) in auto mode\n",
      "Setting up openjdk-8-jdk-headless:amd64 (8u272-b10-0ubuntu1~18.04) ...\n",
      "update-alternatives: using /usr/lib/jvm/java-8-openjdk-amd64/bin/idlj to provide /usr/bin/idlj (idlj) in auto mode\n",
      "update-alternatives: using /usr/lib/jvm/java-8-openjdk-amd64/bin/wsimport to provide /usr/bin/wsimport (wsimport) in auto mode\n",
      "update-alternatives: using /usr/lib/jvm/java-8-openjdk-amd64/bin/jsadebugd to provide /usr/bin/jsadebugd (jsadebugd) in auto mode\n",
      "update-alternatives: using /usr/lib/jvm/java-8-openjdk-amd64/bin/native2ascii to provide /usr/bin/native2ascii (native2ascii) in auto mode\n",
      "update-alternatives: using /usr/lib/jvm/java-8-openjdk-amd64/bin/javah to provide /usr/bin/javah (javah) in auto mode\n",
      "update-alternatives: using /usr/lib/jvm/java-8-openjdk-amd64/bin/clhsdb to provide /usr/bin/clhsdb (clhsdb) in auto mode\n",
      "update-alternatives: using /usr/lib/jvm/java-8-openjdk-amd64/bin/jhat to provide /usr/bin/jhat (jhat) in auto mode\n",
      "update-alternatives: using /usr/lib/jvm/java-8-openjdk-amd64/bin/extcheck to provide /usr/bin/extcheck (extcheck) in auto mode\n",
      "update-alternatives: using /usr/lib/jvm/java-8-openjdk-amd64/bin/hsdb to provide /usr/bin/hsdb (hsdb) in auto mode\n",
      "update-alternatives: using /usr/lib/jvm/java-8-openjdk-amd64/bin/schemagen to provide /usr/bin/schemagen (schemagen) in auto mode\n",
      "update-alternatives: using /usr/lib/jvm/java-8-openjdk-amd64/bin/xjc to provide /usr/bin/xjc (xjc) in auto mode\n",
      "update-alternatives: using /usr/lib/jvm/java-8-openjdk-amd64/bin/wsgen to provide /usr/bin/wsgen (wsgen) in auto mode\n"
     ]
    }
   ],
   "source": [
    "!pip install pyspark\n",
    "!pip install -U -q PyDrive\n",
    "!apt install openjdk-8-jdk-headless -qq\n",
    "import os\n",
    "os.environ[\"JAVA_HOME\"] = \"/usr/lib/jvm/java-8-openjdk-amd64\""
   ]
  },
  {
   "cell_type": "code",
   "execution_count": 2,
   "metadata": {
    "id": "ixb3RUyNN50T"
   },
   "outputs": [],
   "source": [
    "import pyspark\n",
    "from pyspark import SparkContext, SparkConf\n",
    "from pyspark.sql import *\n",
    "# create the session\n",
    "conf = SparkConf().set(\"spark.ui.port\", \"4050\")\n",
    "\n",
    "# create the context\n",
    "sc = pyspark.SparkContext(conf=conf)\n",
    "spark = SparkSession.builder.getOrCreate()"
   ]
  },
  {
   "cell_type": "code",
   "execution_count": 3,
   "metadata": {
    "colab": {
     "base_uri": "https://localhost:8080/"
    },
    "id": "YRqLb7L4fEdc",
    "outputId": "ba30994c-6f6a-4256-b41b-9f847199ee3b"
   },
   "outputs": [
    {
     "name": "stdout",
     "output_type": "stream",
     "text": [
      "--2020-11-03 08:37:28--  https://bin.equinox.io/c/4VmDzA7iaHb/ngrok-stable-linux-amd64.zip\n",
      "Resolving bin.equinox.io (bin.equinox.io)... 34.195.187.253, 3.230.235.205, 35.153.20.238, ...\n",
      "Connecting to bin.equinox.io (bin.equinox.io)|34.195.187.253|:443... connected.\n",
      "HTTP request sent, awaiting response... 200 OK\n",
      "Length: 13773305 (13M) [application/octet-stream]\n",
      "Saving to: ‘ngrok-stable-linux-amd64.zip’\n",
      "\n",
      "ngrok-stable-linux- 100%[===================>]  13.13M  6.61MB/s    in 2.0s    \n",
      "\n",
      "2020-11-03 08:37:30 (6.61 MB/s) - ‘ngrok-stable-linux-amd64.zip’ saved [13773305/13773305]\n",
      "\n",
      "Archive:  ngrok-stable-linux-amd64.zip\n",
      "  inflating: ngrok                   \n"
     ]
    }
   ],
   "source": [
    "!wget https://bin.equinox.io/c/4VmDzA7iaHb/ngrok-stable-linux-amd64.zip\n",
    "!unzip ngrok-stable-linux-amd64.zip"
   ]
  },
  {
   "cell_type": "code",
   "execution_count": 5,
   "metadata": {
    "colab": {
     "base_uri": "https://localhost:8080/"
    },
    "id": "2ja80RUrXJBZ",
    "outputId": "760e505e-cf1a-4991-be18-7a88faabd718"
   },
   "outputs": [
    {
     "name": "stdout",
     "output_type": "stream",
     "text": [
      "https://85873bfb06a9.ngrok.io\n"
     ]
    }
   ],
   "source": [
    "get_ipython().system_raw('./ngrok http 4050 &')\n",
    "!curl -s http://localhost:4040/api/tunnels | python3 -c \\\n",
    "    \"import sys, json; print(json.load(sys.stdin)['tunnels'][0]['public_url'])\""
   ]
  },
  {
   "cell_type": "code",
   "execution_count": 6,
   "metadata": {
    "application/vnd.databricks.v1+cell": {
     "inputWidgets": {},
     "nuid": "86f3e0b5-ffdb-448e-bd08-ffd5fd7fd261",
     "showTitle": false,
     "title": ""
    },
    "colab": {
     "base_uri": "https://localhost:8080/"
    },
    "id": "xGMzTluGM4F8",
    "outputId": "77041882-a496-4af0-fd7a-26aac6cb0bb6"
   },
   "outputs": [
    {
     "name": "stdout",
     "output_type": "stream",
     "text": [
      "Reading package lists... Done\n",
      "Building dependency tree       \n",
      "Reading state information... Done\n",
      "git is already the newest version (1:2.17.1-1ubuntu0.7).\n",
      "wget is already the newest version (1.19.4-1ubuntu2.2).\n",
      "0 upgraded, 0 newly installed, 0 to remove and 11 not upgraded.\n"
     ]
    },
    {
     "data": {
      "text/plain": []
     },
     "execution_count": 6,
     "metadata": {
      "tags": []
     },
     "output_type": "execute_result"
    }
   ],
   "source": [
    "%%shell\n",
    "\n",
    "sudo apt-get -y install wget git"
   ]
  },
  {
   "cell_type": "markdown",
   "metadata": {
    "application/vnd.databricks.v1+cell": {
     "inputWidgets": {},
     "nuid": "8545db88-c19b-4a54-9261-5827506e006c",
     "showTitle": false,
     "title": ""
    },
    "id": "2yoOoHBRM4GA"
   },
   "source": [
    "## Download the dump"
   ]
  },
  {
   "cell_type": "code",
   "execution_count": 7,
   "metadata": {
    "application/vnd.databricks.v1+cell": {
     "inputWidgets": {},
     "nuid": "3824c7cb-47bb-4948-88f6-f4498295c266",
     "showTitle": false,
     "title": ""
    },
    "colab": {
     "base_uri": "https://localhost:8080/"
    },
    "id": "idvvGNz4M4GB",
    "outputId": "3b3662fa-6f13-4884-963e-35a68a03f4ac"
   },
   "outputs": [
    {
     "name": "stdout",
     "output_type": "stream",
     "text": [
      "--2020-11-03 08:38:01--  https://dumps.wikimedia.your.org/fawiki/latest/fawiki-latest-pages-articles-multistream.xml.bz2\n",
      "Resolving dumps.wikimedia.your.org (dumps.wikimedia.your.org)... 204.9.55.82, 2001:4978:1:420::cc09:3752\n",
      "Connecting to dumps.wikimedia.your.org (dumps.wikimedia.your.org)|204.9.55.82|:443... connected.\n",
      "HTTP request sent, awaiting response... 200 OK\n",
      "Length: 883400343 (842M) [application/x-bzip]\n",
      "Saving to: ‘./fawiki-latest-pages-articles-multistream.xml.bz2’\n",
      "\n",
      "fawiki-latest-pages 100%[===================>] 842.48M  16.6MB/s    in 61s     \n",
      "\n",
      "2020-11-03 08:39:03 (13.9 MB/s) - ‘./fawiki-latest-pages-articles-multistream.xml.bz2’ saved [883400343/883400343]\n",
      "\n"
     ]
    },
    {
     "data": {
      "text/plain": []
     },
     "execution_count": 7,
     "metadata": {
      "tags": []
     },
     "output_type": "execute_result"
    }
   ],
   "source": [
    "%%shell\n",
    "\n",
    "wget -P . https://dumps.wikimedia.your.org/fawiki/latest/fawiki-latest-pages-articles-multistream.xml.bz2"
   ]
  },
  {
   "cell_type": "markdown",
   "metadata": {
    "application/vnd.databricks.v1+cell": {
     "inputWidgets": {},
     "nuid": "904e6164-a541-4d42-a243-55d8401a8289",
     "showTitle": false,
     "title": ""
    },
    "id": "54n1jbW_M4GE"
   },
   "source": [
    "## Extract the dump (this may take a few minutes)"
   ]
  },
  {
   "cell_type": "code",
   "execution_count": 8,
   "metadata": {
    "application/vnd.databricks.v1+cell": {
     "inputWidgets": {},
     "nuid": "5b0cdf1b-2cc2-43de-9508-d4862a4bb3f3",
     "showTitle": false,
     "title": ""
    },
    "colab": {
     "base_uri": "https://localhost:8080/"
    },
    "id": "cxAwl6VHM4GF",
    "outputId": "51386c5c-b74a-4f58-9be2-a3011c31f8b8"
   },
   "outputs": [
    {
     "data": {
      "text/plain": []
     },
     "execution_count": 8,
     "metadata": {
      "tags": []
     },
     "output_type": "execute_result"
    }
   ],
   "source": [
    "%%shell\n",
    "\n",
    "bzip2 -d fawiki-latest-pages-articles-multistream.xml.bz2"
   ]
  },
  {
   "cell_type": "markdown",
   "metadata": {
    "application/vnd.databricks.v1+cell": {
     "inputWidgets": {},
     "nuid": "b7abd444-3c3a-43ba-b333-1eb066445566",
     "showTitle": false,
     "title": ""
    },
    "id": "boMDXc2tM4GI"
   },
   "source": [
    "## Clone git project for converting wikipedia xml dump to json"
   ]
  },
  {
   "cell_type": "code",
   "execution_count": 9,
   "metadata": {
    "application/vnd.databricks.v1+cell": {
     "inputWidgets": {},
     "nuid": "02768e3b-a6f3-42ca-a0e4-2593ee76866e",
     "showTitle": false,
     "title": ""
    },
    "colab": {
     "base_uri": "https://localhost:8080/"
    },
    "id": "_hbSSZNtM4GI",
    "outputId": "5d543c36-dbe7-48fe-8987-4067fa0839ac"
   },
   "outputs": [
    {
     "name": "stdout",
     "output_type": "stream",
     "text": [
      "Collecting wikiextractor\n",
      "  Downloading https://files.pythonhosted.org/packages/6f/df/3cc30c29319b85b935971df4bea169616a84e5dcc68b729fc9757a8e39e9/wikiextractor-0.1.tar.gz\n",
      "Building wheels for collected packages: wikiextractor\n",
      "  Building wheel for wikiextractor (setup.py) ... \u001b[?25l\u001b[?25hdone\n",
      "  Created wheel for wikiextractor: filename=wikiextractor-0.1-cp36-none-any.whl size=38821 sha256=2a2a92c25bedf2cdbda06aad5c4602e33c73a7c5162ff67695df63e19d980209\n",
      "  Stored in directory: /root/.cache/pip/wheels/10/59/30/8e5a627a070165141e54816359f344497523d6273e0ced6aec\n",
      "Successfully built wikiextractor\n",
      "Installing collected packages: wikiextractor\n",
      "Successfully installed wikiextractor-0.1\n"
     ]
    },
    {
     "data": {
      "text/plain": []
     },
     "execution_count": 9,
     "metadata": {
      "tags": []
     },
     "output_type": "execute_result"
    }
   ],
   "source": [
    "%%shell\n",
    "\n",
    "pip install wikiextractor"
   ]
  },
  {
   "cell_type": "markdown",
   "metadata": {
    "application/vnd.databricks.v1+cell": {
     "inputWidgets": {},
     "nuid": "48d1b9e6-51b1-4598-a1c7-c79af1c69d4a",
     "showTitle": false,
     "title": ""
    },
    "id": "GjHhyjCVM4GM"
   },
   "source": [
    "## Run the script to convert xml to json (this might take around 30 minutes)"
   ]
  },
  {
   "cell_type": "code",
   "execution_count": 10,
   "metadata": {
    "application/vnd.databricks.v1+cell": {
     "inputWidgets": {},
     "nuid": "634c3b4f-5dd2-48dd-9ae9-de5789680a0b",
     "showTitle": false,
     "title": ""
    },
    "colab": {
     "base_uri": "https://localhost:8080/"
    },
    "id": "kFgM3y1SM4GN",
    "outputId": "1379d7f8-81ce-46b4-c31a-fd88a81e744c"
   },
   "outputs": [
    {
     "name": "stdout",
     "output_type": "stream",
     "text": [
      "WARNING: Template errors in article 'صفحهٔ اصلی' (2): title(4) recursion(0, 0, 0)\n",
      "WARNING: Template errors in article 'بروجن' (4240): title(1) recursion(0, 0, 0)\n",
      "WARNING: Template errors in article 'هندوکش' (30669): title(1) recursion(0, 0, 0)\n",
      "WARNING: Template errors in article 'یادگیری ماشین' (31673): title(1) recursion(0, 0, 0)\n",
      "WARNING: Template errors in article 'قطعه (شعر)' (58365): title(1) recursion(0, 0, 0)\n",
      "WARNING: Template errors in article 'ولسوالی‌های افغانستان' (154676): title(1) recursion(0, 0, 0)\n",
      "WARNING: Template errors in article 'بخش تسوج' (172824): title(1) recursion(0, 0, 0)\n",
      "WARNING: Template errors in article 'نشانه‌گذاری' (289671): title(1) recursion(0, 0, 0)\n",
      "WARNING: Template errors in article 'عبدالجبار (هریس)' (325288): title(1) recursion(0, 0, 0)\n",
      "WARNING: Template errors in article 'برنامه‌های مخرب' (348206): title(1) recursion(0, 0, 0)\n",
      "WARNING: Template errors in article 'پیته‌نو' (485701): title(1) recursion(0, 0, 0)\n",
      "WARNING: Template errors in article 'ناصر ایرانی' (641643): title(2) recursion(0, 0, 0)\n",
      "WARNING: Template errors in article 'لایتراکان' (644178): title(1) recursion(0, 0, 0)\n",
      "WARNING: Template errors in article 'طایفه کشکولی بزرگ' (917036): title(1) recursion(0, 0, 0)\n",
      "WARNING: Template errors in article 'ذهن‌آگاهی' (1075859): title(1) recursion(0, 0, 0)\n",
      "WARNING: Template errors in article 'اندیس ژاکار' (1511772): title(1) recursion(0, 0, 0)\n",
      "WARNING: Template errors in article 'پیرتاج' (1594710): title(1) recursion(0, 0, 0)\n",
      "WARNING: Template errors in article 'درهم‌سازی میانی' (2512696): title(1) recursion(0, 0, 0)\n",
      "WARNING: Template errors in article 'حسانه تمیمیه' (3741183): title(1) recursion(0, 0, 0)\n",
      "WARNING: Template errors in article 'بتمن: جوک کشنده (فیلم)' (3885997): title(1) recursion(0, 0, 0)\n",
      "WARNING: Template errors in article 'ام‌اس‌سی کروزس' (4319476): title(1) recursion(0, 0, 0)\n",
      "WARNING: Template errors in article 'پدرو خوان فیهروا' (4363994): title(1) recursion(0, 0, 0)\n",
      "WARNING: Template errors in article 'آلمیش' (4659949): title(1) recursion(0, 0, 0)\n",
      "WARNING: Template errors in article 'ترانه‌شناسی آلن واکر' (4675311): title(1) recursion(0, 0, 0)\n",
      "WARNING: Template errors in article 'گازار (بیرجند)' (4810152): title(1) recursion(0, 0, 0)\n",
      "WARNING: Template errors in article 'دانشکده اقتصاد دانشگاه علامه طباطبایی' (4839725): title(1) recursion(0, 0, 0)\n",
      "WARNING: Template errors in article 'کرست (خمیردندان)' (5082433): title(1) recursion(0, 0, 0)\n",
      "WARNING: Template errors in article 'زهره اخیانی' (5357713): title(1) recursion(0, 0, 0)\n",
      "WARNING: Template errors in article 'آمازون میوزیک' (5404407): title(2) recursion(0, 0, 0)\n"
     ]
    },
    {
     "data": {
      "text/plain": []
     },
     "execution_count": 10,
     "metadata": {
      "tags": []
     },
     "output_type": "execute_result"
    }
   ],
   "source": [
    "%%shell\n",
    "\n",
    "python -m wikiextractor.WikiExtractor -q --json fawiki-latest-pages-articles-multistream.xml"
   ]
  },
  {
   "cell_type": "markdown",
   "metadata": {
    "application/vnd.databricks.v1+cell": {
     "inputWidgets": {},
     "nuid": "46bcfeed-c755-4546-a7ee-87ef4f785e88",
     "showTitle": false,
     "title": ""
    },
    "id": "i-9_LtaYM4GR"
   },
   "source": [
    "# Ensure output files exist"
   ]
  },
  {
   "cell_type": "code",
   "execution_count": 11,
   "metadata": {
    "application/vnd.databricks.v1+cell": {
     "inputWidgets": {},
     "nuid": "d73ab617-4a3b-44fe-a3cd-a65e74392433",
     "showTitle": false,
     "title": ""
    },
    "colab": {
     "base_uri": "https://localhost:8080/"
    },
    "id": "j70OqzrkM4GS",
    "outputId": "8141682a-baf7-494b-9c32-adc3e4a2943d"
   },
   "outputs": [
    {
     "name": "stdout",
     "output_type": "stream",
     "text": [
      "text/AA/wiki_00  text/AC/wiki_31  text/AE/wiki_62  text/AG/wiki_93\n",
      "text/AA/wiki_01  text/AC/wiki_32  text/AE/wiki_63  text/AG/wiki_94\n",
      "text/AA/wiki_02  text/AC/wiki_33  text/AE/wiki_64  text/AG/wiki_95\n",
      "text/AA/wiki_03  text/AC/wiki_34  text/AE/wiki_65  text/AG/wiki_96\n",
      "text/AA/wiki_04  text/AC/wiki_35  text/AE/wiki_66  text/AG/wiki_97\n",
      "text/AA/wiki_05  text/AC/wiki_36  text/AE/wiki_67  text/AG/wiki_98\n",
      "text/AA/wiki_06  text/AC/wiki_37  text/AE/wiki_68  text/AG/wiki_99\n",
      "text/AA/wiki_07  text/AC/wiki_38  text/AE/wiki_69  text/AH/wiki_00\n",
      "text/AA/wiki_08  text/AC/wiki_39  text/AE/wiki_70  text/AH/wiki_01\n",
      "text/AA/wiki_09  text/AC/wiki_40  text/AE/wiki_71  text/AH/wiki_02\n",
      "text/AA/wiki_10  text/AC/wiki_41  text/AE/wiki_72  text/AH/wiki_03\n",
      "text/AA/wiki_11  text/AC/wiki_42  text/AE/wiki_73  text/AH/wiki_04\n",
      "text/AA/wiki_12  text/AC/wiki_43  text/AE/wiki_74  text/AH/wiki_05\n",
      "text/AA/wiki_13  text/AC/wiki_44  text/AE/wiki_75  text/AH/wiki_06\n",
      "text/AA/wiki_14  text/AC/wiki_45  text/AE/wiki_76  text/AH/wiki_07\n",
      "text/AA/wiki_15  text/AC/wiki_46  text/AE/wiki_77  text/AH/wiki_08\n",
      "text/AA/wiki_16  text/AC/wiki_47  text/AE/wiki_78  text/AH/wiki_09\n",
      "text/AA/wiki_17  text/AC/wiki_48  text/AE/wiki_79  text/AH/wiki_10\n",
      "text/AA/wiki_18  text/AC/wiki_49  text/AE/wiki_80  text/AH/wiki_11\n",
      "text/AA/wiki_19  text/AC/wiki_50  text/AE/wiki_81  text/AH/wiki_12\n",
      "text/AA/wiki_20  text/AC/wiki_51  text/AE/wiki_82  text/AH/wiki_13\n",
      "text/AA/wiki_21  text/AC/wiki_52  text/AE/wiki_83  text/AH/wiki_14\n",
      "text/AA/wiki_22  text/AC/wiki_53  text/AE/wiki_84  text/AH/wiki_15\n",
      "text/AA/wiki_23  text/AC/wiki_54  text/AE/wiki_85  text/AH/wiki_16\n",
      "text/AA/wiki_24  text/AC/wiki_55  text/AE/wiki_86  text/AH/wiki_17\n",
      "text/AA/wiki_25  text/AC/wiki_56  text/AE/wiki_87  text/AH/wiki_18\n",
      "text/AA/wiki_26  text/AC/wiki_57  text/AE/wiki_88  text/AH/wiki_19\n",
      "text/AA/wiki_27  text/AC/wiki_58  text/AE/wiki_89  text/AH/wiki_20\n",
      "text/AA/wiki_28  text/AC/wiki_59  text/AE/wiki_90  text/AH/wiki_21\n",
      "text/AA/wiki_29  text/AC/wiki_60  text/AE/wiki_91  text/AH/wiki_22\n",
      "text/AA/wiki_30  text/AC/wiki_61  text/AE/wiki_92  text/AH/wiki_23\n",
      "text/AA/wiki_31  text/AC/wiki_62  text/AE/wiki_93  text/AH/wiki_24\n",
      "text/AA/wiki_32  text/AC/wiki_63  text/AE/wiki_94  text/AH/wiki_25\n",
      "text/AA/wiki_33  text/AC/wiki_64  text/AE/wiki_95  text/AH/wiki_26\n",
      "text/AA/wiki_34  text/AC/wiki_65  text/AE/wiki_96  text/AH/wiki_27\n",
      "text/AA/wiki_35  text/AC/wiki_66  text/AE/wiki_97  text/AH/wiki_28\n",
      "text/AA/wiki_36  text/AC/wiki_67  text/AE/wiki_98  text/AH/wiki_29\n",
      "text/AA/wiki_37  text/AC/wiki_68  text/AE/wiki_99  text/AH/wiki_30\n",
      "text/AA/wiki_38  text/AC/wiki_69  text/AF/wiki_00  text/AH/wiki_31\n",
      "text/AA/wiki_39  text/AC/wiki_70  text/AF/wiki_01  text/AH/wiki_32\n",
      "text/AA/wiki_40  text/AC/wiki_71  text/AF/wiki_02  text/AH/wiki_33\n",
      "text/AA/wiki_41  text/AC/wiki_72  text/AF/wiki_03  text/AH/wiki_34\n",
      "text/AA/wiki_42  text/AC/wiki_73  text/AF/wiki_04  text/AH/wiki_35\n",
      "text/AA/wiki_43  text/AC/wiki_74  text/AF/wiki_05  text/AH/wiki_36\n",
      "text/AA/wiki_44  text/AC/wiki_75  text/AF/wiki_06  text/AH/wiki_37\n",
      "text/AA/wiki_45  text/AC/wiki_76  text/AF/wiki_07  text/AH/wiki_38\n",
      "text/AA/wiki_46  text/AC/wiki_77  text/AF/wiki_08  text/AH/wiki_39\n",
      "text/AA/wiki_47  text/AC/wiki_78  text/AF/wiki_09  text/AH/wiki_40\n",
      "text/AA/wiki_48  text/AC/wiki_79  text/AF/wiki_10  text/AH/wiki_41\n",
      "text/AA/wiki_49  text/AC/wiki_80  text/AF/wiki_11  text/AH/wiki_42\n",
      "text/AA/wiki_50  text/AC/wiki_81  text/AF/wiki_12  text/AH/wiki_43\n",
      "text/AA/wiki_51  text/AC/wiki_82  text/AF/wiki_13  text/AH/wiki_44\n",
      "text/AA/wiki_52  text/AC/wiki_83  text/AF/wiki_14  text/AH/wiki_45\n",
      "text/AA/wiki_53  text/AC/wiki_84  text/AF/wiki_15  text/AH/wiki_46\n",
      "text/AA/wiki_54  text/AC/wiki_85  text/AF/wiki_16  text/AH/wiki_47\n",
      "text/AA/wiki_55  text/AC/wiki_86  text/AF/wiki_17  text/AH/wiki_48\n",
      "text/AA/wiki_56  text/AC/wiki_87  text/AF/wiki_18  text/AH/wiki_49\n",
      "text/AA/wiki_57  text/AC/wiki_88  text/AF/wiki_19  text/AH/wiki_50\n",
      "text/AA/wiki_58  text/AC/wiki_89  text/AF/wiki_20  text/AH/wiki_51\n",
      "text/AA/wiki_59  text/AC/wiki_90  text/AF/wiki_21  text/AH/wiki_52\n",
      "text/AA/wiki_60  text/AC/wiki_91  text/AF/wiki_22  text/AH/wiki_53\n",
      "text/AA/wiki_61  text/AC/wiki_92  text/AF/wiki_23  text/AH/wiki_54\n",
      "text/AA/wiki_62  text/AC/wiki_93  text/AF/wiki_24  text/AH/wiki_55\n",
      "text/AA/wiki_63  text/AC/wiki_94  text/AF/wiki_25  text/AH/wiki_56\n",
      "text/AA/wiki_64  text/AC/wiki_95  text/AF/wiki_26  text/AH/wiki_57\n",
      "text/AA/wiki_65  text/AC/wiki_96  text/AF/wiki_27  text/AH/wiki_58\n",
      "text/AA/wiki_66  text/AC/wiki_97  text/AF/wiki_28  text/AH/wiki_59\n",
      "text/AA/wiki_67  text/AC/wiki_98  text/AF/wiki_29  text/AH/wiki_60\n",
      "text/AA/wiki_68  text/AC/wiki_99  text/AF/wiki_30  text/AH/wiki_61\n",
      "text/AA/wiki_69  text/AD/wiki_00  text/AF/wiki_31  text/AH/wiki_62\n",
      "text/AA/wiki_70  text/AD/wiki_01  text/AF/wiki_32  text/AH/wiki_63\n",
      "text/AA/wiki_71  text/AD/wiki_02  text/AF/wiki_33  text/AH/wiki_64\n",
      "text/AA/wiki_72  text/AD/wiki_03  text/AF/wiki_34  text/AH/wiki_65\n",
      "text/AA/wiki_73  text/AD/wiki_04  text/AF/wiki_35  text/AH/wiki_66\n",
      "text/AA/wiki_74  text/AD/wiki_05  text/AF/wiki_36  text/AH/wiki_67\n",
      "text/AA/wiki_75  text/AD/wiki_06  text/AF/wiki_37  text/AH/wiki_68\n",
      "text/AA/wiki_76  text/AD/wiki_07  text/AF/wiki_38  text/AH/wiki_69\n",
      "text/AA/wiki_77  text/AD/wiki_08  text/AF/wiki_39  text/AH/wiki_70\n",
      "text/AA/wiki_78  text/AD/wiki_09  text/AF/wiki_40  text/AH/wiki_71\n",
      "text/AA/wiki_79  text/AD/wiki_10  text/AF/wiki_41  text/AH/wiki_72\n",
      "text/AA/wiki_80  text/AD/wiki_11  text/AF/wiki_42  text/AH/wiki_73\n",
      "text/AA/wiki_81  text/AD/wiki_12  text/AF/wiki_43  text/AH/wiki_74\n",
      "text/AA/wiki_82  text/AD/wiki_13  text/AF/wiki_44  text/AH/wiki_75\n",
      "text/AA/wiki_83  text/AD/wiki_14  text/AF/wiki_45  text/AH/wiki_76\n",
      "text/AA/wiki_84  text/AD/wiki_15  text/AF/wiki_46  text/AH/wiki_77\n",
      "text/AA/wiki_85  text/AD/wiki_16  text/AF/wiki_47  text/AH/wiki_78\n",
      "text/AA/wiki_86  text/AD/wiki_17  text/AF/wiki_48  text/AH/wiki_79\n",
      "text/AA/wiki_87  text/AD/wiki_18  text/AF/wiki_49  text/AH/wiki_80\n",
      "text/AA/wiki_88  text/AD/wiki_19  text/AF/wiki_50  text/AH/wiki_81\n",
      "text/AA/wiki_89  text/AD/wiki_20  text/AF/wiki_51  text/AH/wiki_82\n",
      "text/AA/wiki_90  text/AD/wiki_21  text/AF/wiki_52  text/AH/wiki_83\n",
      "text/AA/wiki_91  text/AD/wiki_22  text/AF/wiki_53  text/AH/wiki_84\n",
      "text/AA/wiki_92  text/AD/wiki_23  text/AF/wiki_54  text/AH/wiki_85\n",
      "text/AA/wiki_93  text/AD/wiki_24  text/AF/wiki_55  text/AH/wiki_86\n",
      "text/AA/wiki_94  text/AD/wiki_25  text/AF/wiki_56  text/AH/wiki_87\n",
      "text/AA/wiki_95  text/AD/wiki_26  text/AF/wiki_57  text/AH/wiki_88\n",
      "text/AA/wiki_96  text/AD/wiki_27  text/AF/wiki_58  text/AH/wiki_89\n",
      "text/AA/wiki_97  text/AD/wiki_28  text/AF/wiki_59  text/AH/wiki_90\n",
      "text/AA/wiki_98  text/AD/wiki_29  text/AF/wiki_60  text/AH/wiki_91\n",
      "text/AA/wiki_99  text/AD/wiki_30  text/AF/wiki_61  text/AH/wiki_92\n",
      "text/AB/wiki_00  text/AD/wiki_31  text/AF/wiki_62  text/AH/wiki_93\n",
      "text/AB/wiki_01  text/AD/wiki_32  text/AF/wiki_63  text/AH/wiki_94\n",
      "text/AB/wiki_02  text/AD/wiki_33  text/AF/wiki_64  text/AH/wiki_95\n",
      "text/AB/wiki_03  text/AD/wiki_34  text/AF/wiki_65  text/AH/wiki_96\n",
      "text/AB/wiki_04  text/AD/wiki_35  text/AF/wiki_66  text/AH/wiki_97\n",
      "text/AB/wiki_05  text/AD/wiki_36  text/AF/wiki_67  text/AH/wiki_98\n",
      "text/AB/wiki_06  text/AD/wiki_37  text/AF/wiki_68  text/AH/wiki_99\n",
      "text/AB/wiki_07  text/AD/wiki_38  text/AF/wiki_69  text/AI/wiki_00\n",
      "text/AB/wiki_08  text/AD/wiki_39  text/AF/wiki_70  text/AI/wiki_01\n",
      "text/AB/wiki_09  text/AD/wiki_40  text/AF/wiki_71  text/AI/wiki_02\n",
      "text/AB/wiki_10  text/AD/wiki_41  text/AF/wiki_72  text/AI/wiki_03\n",
      "text/AB/wiki_11  text/AD/wiki_42  text/AF/wiki_73  text/AI/wiki_04\n",
      "text/AB/wiki_12  text/AD/wiki_43  text/AF/wiki_74  text/AI/wiki_05\n",
      "text/AB/wiki_13  text/AD/wiki_44  text/AF/wiki_75  text/AI/wiki_06\n",
      "text/AB/wiki_14  text/AD/wiki_45  text/AF/wiki_76  text/AI/wiki_07\n",
      "text/AB/wiki_15  text/AD/wiki_46  text/AF/wiki_77  text/AI/wiki_08\n",
      "text/AB/wiki_16  text/AD/wiki_47  text/AF/wiki_78  text/AI/wiki_09\n",
      "text/AB/wiki_17  text/AD/wiki_48  text/AF/wiki_79  text/AI/wiki_10\n",
      "text/AB/wiki_18  text/AD/wiki_49  text/AF/wiki_80  text/AI/wiki_11\n",
      "text/AB/wiki_19  text/AD/wiki_50  text/AF/wiki_81  text/AI/wiki_12\n",
      "text/AB/wiki_20  text/AD/wiki_51  text/AF/wiki_82  text/AI/wiki_13\n",
      "text/AB/wiki_21  text/AD/wiki_52  text/AF/wiki_83  text/AI/wiki_14\n",
      "text/AB/wiki_22  text/AD/wiki_53  text/AF/wiki_84  text/AI/wiki_15\n",
      "text/AB/wiki_23  text/AD/wiki_54  text/AF/wiki_85  text/AI/wiki_16\n",
      "text/AB/wiki_24  text/AD/wiki_55  text/AF/wiki_86  text/AI/wiki_17\n",
      "text/AB/wiki_25  text/AD/wiki_56  text/AF/wiki_87  text/AI/wiki_18\n",
      "text/AB/wiki_26  text/AD/wiki_57  text/AF/wiki_88  text/AI/wiki_19\n",
      "text/AB/wiki_27  text/AD/wiki_58  text/AF/wiki_89  text/AI/wiki_20\n",
      "text/AB/wiki_28  text/AD/wiki_59  text/AF/wiki_90  text/AI/wiki_21\n",
      "text/AB/wiki_29  text/AD/wiki_60  text/AF/wiki_91  text/AI/wiki_22\n",
      "text/AB/wiki_30  text/AD/wiki_61  text/AF/wiki_92  text/AI/wiki_23\n",
      "text/AB/wiki_31  text/AD/wiki_62  text/AF/wiki_93  text/AI/wiki_24\n",
      "text/AB/wiki_32  text/AD/wiki_63  text/AF/wiki_94  text/AI/wiki_25\n",
      "text/AB/wiki_33  text/AD/wiki_64  text/AF/wiki_95  text/AI/wiki_26\n",
      "text/AB/wiki_34  text/AD/wiki_65  text/AF/wiki_96  text/AI/wiki_27\n",
      "text/AB/wiki_35  text/AD/wiki_66  text/AF/wiki_97  text/AI/wiki_28\n",
      "text/AB/wiki_36  text/AD/wiki_67  text/AF/wiki_98  text/AI/wiki_29\n",
      "text/AB/wiki_37  text/AD/wiki_68  text/AF/wiki_99  text/AI/wiki_30\n",
      "text/AB/wiki_38  text/AD/wiki_69  text/AG/wiki_00  text/AI/wiki_31\n",
      "text/AB/wiki_39  text/AD/wiki_70  text/AG/wiki_01  text/AI/wiki_32\n",
      "text/AB/wiki_40  text/AD/wiki_71  text/AG/wiki_02  text/AI/wiki_33\n",
      "text/AB/wiki_41  text/AD/wiki_72  text/AG/wiki_03  text/AI/wiki_34\n",
      "text/AB/wiki_42  text/AD/wiki_73  text/AG/wiki_04  text/AI/wiki_35\n",
      "text/AB/wiki_43  text/AD/wiki_74  text/AG/wiki_05  text/AI/wiki_36\n",
      "text/AB/wiki_44  text/AD/wiki_75  text/AG/wiki_06  text/AI/wiki_37\n",
      "text/AB/wiki_45  text/AD/wiki_76  text/AG/wiki_07  text/AI/wiki_38\n",
      "text/AB/wiki_46  text/AD/wiki_77  text/AG/wiki_08  text/AI/wiki_39\n",
      "text/AB/wiki_47  text/AD/wiki_78  text/AG/wiki_09  text/AI/wiki_40\n",
      "text/AB/wiki_48  text/AD/wiki_79  text/AG/wiki_10  text/AI/wiki_41\n",
      "text/AB/wiki_49  text/AD/wiki_80  text/AG/wiki_11  text/AI/wiki_42\n",
      "text/AB/wiki_50  text/AD/wiki_81  text/AG/wiki_12  text/AI/wiki_43\n",
      "text/AB/wiki_51  text/AD/wiki_82  text/AG/wiki_13  text/AI/wiki_44\n",
      "text/AB/wiki_52  text/AD/wiki_83  text/AG/wiki_14  text/AI/wiki_45\n",
      "text/AB/wiki_53  text/AD/wiki_84  text/AG/wiki_15  text/AI/wiki_46\n",
      "text/AB/wiki_54  text/AD/wiki_85  text/AG/wiki_16  text/AI/wiki_47\n",
      "text/AB/wiki_55  text/AD/wiki_86  text/AG/wiki_17  text/AI/wiki_48\n",
      "text/AB/wiki_56  text/AD/wiki_87  text/AG/wiki_18  text/AI/wiki_49\n",
      "text/AB/wiki_57  text/AD/wiki_88  text/AG/wiki_19  text/AI/wiki_50\n",
      "text/AB/wiki_58  text/AD/wiki_89  text/AG/wiki_20  text/AI/wiki_51\n",
      "text/AB/wiki_59  text/AD/wiki_90  text/AG/wiki_21  text/AI/wiki_52\n",
      "text/AB/wiki_60  text/AD/wiki_91  text/AG/wiki_22  text/AI/wiki_53\n",
      "text/AB/wiki_61  text/AD/wiki_92  text/AG/wiki_23  text/AI/wiki_54\n",
      "text/AB/wiki_62  text/AD/wiki_93  text/AG/wiki_24  text/AI/wiki_55\n",
      "text/AB/wiki_63  text/AD/wiki_94  text/AG/wiki_25  text/AI/wiki_56\n",
      "text/AB/wiki_64  text/AD/wiki_95  text/AG/wiki_26  text/AI/wiki_57\n",
      "text/AB/wiki_65  text/AD/wiki_96  text/AG/wiki_27  text/AI/wiki_58\n",
      "text/AB/wiki_66  text/AD/wiki_97  text/AG/wiki_28  text/AI/wiki_59\n",
      "text/AB/wiki_67  text/AD/wiki_98  text/AG/wiki_29  text/AI/wiki_60\n",
      "text/AB/wiki_68  text/AD/wiki_99  text/AG/wiki_30  text/AI/wiki_61\n",
      "text/AB/wiki_69  text/AE/wiki_00  text/AG/wiki_31  text/AI/wiki_62\n",
      "text/AB/wiki_70  text/AE/wiki_01  text/AG/wiki_32  text/AI/wiki_63\n",
      "text/AB/wiki_71  text/AE/wiki_02  text/AG/wiki_33  text/AI/wiki_64\n",
      "text/AB/wiki_72  text/AE/wiki_03  text/AG/wiki_34  text/AI/wiki_65\n",
      "text/AB/wiki_73  text/AE/wiki_04  text/AG/wiki_35  text/AI/wiki_66\n",
      "text/AB/wiki_74  text/AE/wiki_05  text/AG/wiki_36  text/AI/wiki_67\n",
      "text/AB/wiki_75  text/AE/wiki_06  text/AG/wiki_37  text/AI/wiki_68\n",
      "text/AB/wiki_76  text/AE/wiki_07  text/AG/wiki_38  text/AI/wiki_69\n",
      "text/AB/wiki_77  text/AE/wiki_08  text/AG/wiki_39  text/AI/wiki_70\n",
      "text/AB/wiki_78  text/AE/wiki_09  text/AG/wiki_40  text/AI/wiki_71\n",
      "text/AB/wiki_79  text/AE/wiki_10  text/AG/wiki_41  text/AI/wiki_72\n",
      "text/AB/wiki_80  text/AE/wiki_11  text/AG/wiki_42  text/AI/wiki_73\n",
      "text/AB/wiki_81  text/AE/wiki_12  text/AG/wiki_43  text/AI/wiki_74\n",
      "text/AB/wiki_82  text/AE/wiki_13  text/AG/wiki_44  text/AI/wiki_75\n",
      "text/AB/wiki_83  text/AE/wiki_14  text/AG/wiki_45  text/AI/wiki_76\n",
      "text/AB/wiki_84  text/AE/wiki_15  text/AG/wiki_46  text/AI/wiki_77\n",
      "text/AB/wiki_85  text/AE/wiki_16  text/AG/wiki_47  text/AI/wiki_78\n",
      "text/AB/wiki_86  text/AE/wiki_17  text/AG/wiki_48  text/AI/wiki_79\n",
      "text/AB/wiki_87  text/AE/wiki_18  text/AG/wiki_49  text/AI/wiki_80\n",
      "text/AB/wiki_88  text/AE/wiki_19  text/AG/wiki_50  text/AI/wiki_81\n",
      "text/AB/wiki_89  text/AE/wiki_20  text/AG/wiki_51  text/AI/wiki_82\n",
      "text/AB/wiki_90  text/AE/wiki_21  text/AG/wiki_52  text/AI/wiki_83\n",
      "text/AB/wiki_91  text/AE/wiki_22  text/AG/wiki_53  text/AI/wiki_84\n",
      "text/AB/wiki_92  text/AE/wiki_23  text/AG/wiki_54  text/AI/wiki_85\n",
      "text/AB/wiki_93  text/AE/wiki_24  text/AG/wiki_55  text/AI/wiki_86\n",
      "text/AB/wiki_94  text/AE/wiki_25  text/AG/wiki_56  text/AI/wiki_87\n",
      "text/AB/wiki_95  text/AE/wiki_26  text/AG/wiki_57  text/AI/wiki_88\n",
      "text/AB/wiki_96  text/AE/wiki_27  text/AG/wiki_58  text/AI/wiki_89\n",
      "text/AB/wiki_97  text/AE/wiki_28  text/AG/wiki_59  text/AI/wiki_90\n",
      "text/AB/wiki_98  text/AE/wiki_29  text/AG/wiki_60  text/AI/wiki_91\n",
      "text/AB/wiki_99  text/AE/wiki_30  text/AG/wiki_61  text/AI/wiki_92\n",
      "text/AC/wiki_00  text/AE/wiki_31  text/AG/wiki_62  text/AI/wiki_93\n",
      "text/AC/wiki_01  text/AE/wiki_32  text/AG/wiki_63  text/AI/wiki_94\n",
      "text/AC/wiki_02  text/AE/wiki_33  text/AG/wiki_64  text/AI/wiki_95\n",
      "text/AC/wiki_03  text/AE/wiki_34  text/AG/wiki_65  text/AI/wiki_96\n",
      "text/AC/wiki_04  text/AE/wiki_35  text/AG/wiki_66  text/AI/wiki_97\n",
      "text/AC/wiki_05  text/AE/wiki_36  text/AG/wiki_67  text/AI/wiki_98\n",
      "text/AC/wiki_06  text/AE/wiki_37  text/AG/wiki_68  text/AI/wiki_99\n",
      "text/AC/wiki_07  text/AE/wiki_38  text/AG/wiki_69  text/AJ/wiki_00\n",
      "text/AC/wiki_08  text/AE/wiki_39  text/AG/wiki_70  text/AJ/wiki_01\n",
      "text/AC/wiki_09  text/AE/wiki_40  text/AG/wiki_71  text/AJ/wiki_02\n",
      "text/AC/wiki_10  text/AE/wiki_41  text/AG/wiki_72  text/AJ/wiki_03\n",
      "text/AC/wiki_11  text/AE/wiki_42  text/AG/wiki_73  text/AJ/wiki_04\n",
      "text/AC/wiki_12  text/AE/wiki_43  text/AG/wiki_74  text/AJ/wiki_05\n",
      "text/AC/wiki_13  text/AE/wiki_44  text/AG/wiki_75  text/AJ/wiki_06\n",
      "text/AC/wiki_14  text/AE/wiki_45  text/AG/wiki_76  text/AJ/wiki_07\n",
      "text/AC/wiki_15  text/AE/wiki_46  text/AG/wiki_77  text/AJ/wiki_08\n",
      "text/AC/wiki_16  text/AE/wiki_47  text/AG/wiki_78  text/AJ/wiki_09\n",
      "text/AC/wiki_17  text/AE/wiki_48  text/AG/wiki_79  text/AJ/wiki_10\n",
      "text/AC/wiki_18  text/AE/wiki_49  text/AG/wiki_80  text/AJ/wiki_11\n",
      "text/AC/wiki_19  text/AE/wiki_50  text/AG/wiki_81  text/AJ/wiki_12\n",
      "text/AC/wiki_20  text/AE/wiki_51  text/AG/wiki_82  text/AJ/wiki_13\n",
      "text/AC/wiki_21  text/AE/wiki_52  text/AG/wiki_83  text/AJ/wiki_14\n",
      "text/AC/wiki_22  text/AE/wiki_53  text/AG/wiki_84  text/AJ/wiki_15\n",
      "text/AC/wiki_23  text/AE/wiki_54  text/AG/wiki_85  text/AJ/wiki_16\n",
      "text/AC/wiki_24  text/AE/wiki_55  text/AG/wiki_86  text/AJ/wiki_17\n",
      "text/AC/wiki_25  text/AE/wiki_56  text/AG/wiki_87  text/AJ/wiki_18\n",
      "text/AC/wiki_26  text/AE/wiki_57  text/AG/wiki_88  text/AJ/wiki_19\n",
      "text/AC/wiki_27  text/AE/wiki_58  text/AG/wiki_89  text/AJ/wiki_20\n",
      "text/AC/wiki_28  text/AE/wiki_59  text/AG/wiki_90\n",
      "text/AC/wiki_29  text/AE/wiki_60  text/AG/wiki_91\n",
      "text/AC/wiki_30  text/AE/wiki_61  text/AG/wiki_92\n"
     ]
    },
    {
     "data": {
      "text/plain": []
     },
     "execution_count": 11,
     "metadata": {
      "tags": []
     },
     "output_type": "execute_result"
    }
   ],
   "source": [
    "%%shell\n",
    "\n",
    "ls text/*/*"
   ]
  },
  {
   "cell_type": "markdown",
   "metadata": {
    "application/vnd.databricks.v1+cell": {
     "inputWidgets": {},
     "nuid": "053d4bf0-42b5-42ac-94ac-c71aff97d5fc",
     "showTitle": false,
     "title": ""
    },
    "id": "v2sY4LXDM4GW"
   },
   "source": [
    "## Reading the data"
   ]
  },
  {
   "cell_type": "code",
   "execution_count": 12,
   "metadata": {
    "application/vnd.databricks.v1+cell": {
     "inputWidgets": {},
     "nuid": "27187212-b351-40bd-9dc0-c73163c38d29",
     "showTitle": false,
     "title": ""
    },
    "colab": {
     "base_uri": "https://localhost:8080/"
    },
    "id": "a99eyLDxM4GX",
    "outputId": "2783249a-db4d-44d4-a725-7ca0f40f4153"
   },
   "outputs": [
    {
     "data": {
      "text/plain": [
       "['{\"id\": \"12125\", \"url\": \"https://fa.wikipedia.org/wiki?curid=12125\", \"title\": \"علی منصور\", \"text\": \"علی منصور\\\\n\\\\nرجبعلی منصور (۱۲۶۵ – ۲۱ آذر ۱۳۵۳ تهران)، ملقب به منصورالملک، سیاست\\u200cمدار دوره قاجار و پهلوی و نخست\\u200cوزیر ایران در دوران رضا شاه و محمدرضا شاه پهلوی بود.\\\\n\\\\nپدرش میرزا علی\\u200cخان آشتیانی بود. تحصیلات مقدماتی و متوسطه را در مدارس مظفری و دارالفنون به پایان رساند و مطابق معمول زمان در حسن خط و شیوه نگارش نیز جد و جهدی از خود بروز داد. سپس وارد مدرسه سیاسی شد و در ۱۲۸۵ از این مدرسه فارغ\\u200cالتحصیل شد و به استخدام وزارت امور خارجه درآمد. \\\\n\\\\nاستخدامش در وزارت خارجه مقارن بود با اوائل جنبش مشروطه و سال\\u200cها در اداره انگلیس آن وزارتخانه خدمت کرد که ریاستش با حسن رئیس ظهیرالملک بود. با دختر رئیس خود ازدواج کرد و در سال ۱۲۹۴ به ریاست اداره انگلیس رسید. در همین سمت لقب منصورالملک گرفت و علاوه بر سمت دولتی خود، در مدرسه سیاسی به تدریس حقوق در یونان و روم قدیم پرداخت. گفته شده که منصورالملک در سمت رئیس اداره انگلیس در انعقاد قرارداد ۱۹۱۹ نقش مهمی داشت.\\\\n\\\\nعلی منصور در سال ۱۲۹۸ به کفالت وزارت خارجه منصوب شد. پس از سقوط وثوق\\u200cالدوله در سمت معاون میرزا اسدالله خان مشارالسلطنه، وزیر امور خارجه ابقا شد. در کابینه\\u200cهای سپهدار رشتی و سیدضیاءالدین همچنان معاون وزیر امور خارجه بود. در کابینه قوام\\u200cالسلطنه که خودش وزارت داخله را به عهده داشت، منصورالملک معاون و عملا کفیل (سرپرست) وزارت داخله شد. \\\\n\\\\nاز جمله مهمترین رخدادهایی که در این دوره مسئولیت او رخ داد، حمله سمیتقو به مناطقی از آذربایجان بود. منصورالملک که هم\\u200cزمان با معاونت وزارت داخله، حکمرانی ارومیه را نیز بر عهده داشت، مستقیم درگیر فروخواباندن غائله سمیتقو بود. \\\\n\\\\nدولتهایی که از آن پس مشیرالدوله، قوام\\u200cالسلطنه، مستوفی\\u200cالممالک و سردار\\u200cسپه تشکیل دادند، هیچکدام وزیر داخله نداشت و منصور\\u200cالملک در همه این دولتها وزارت داخله را سرپرستی می کرد تا هشتم شهریور ۱۳۰۳ که سردار\\u200cسپه امیر\\u200cاقتدار را وزیر داخله کرد و منصور\\u200cالملک معاون او شد. از آن پس در دولتهای فروغی و مستوفی نیز همچنان معاون وزارت داخله ماند تا در سال ۱۳۰۶ والی آذربایجان شد. سپس برای نخستین بار در در سال ۱۳۰۸ به وزارت رسید و مخبرالسلطنه هدایت در کابینه خود او را وزیر داخله کرد. \\\\n\\\\nمنصور در فروردین ۱۳۱۲ وزیر طرق و شوارع (راه) شد. بهره\\u200cبرداری از راه آهن در زمان وزارت او آغاز شد و در دوازدهم امرداد ۱۳۱۴ لایحه تشکیل موسسه دولتی راه\\u200cآهن را برای تصدی بهره\\u200cبرداری از شبکه راه آهن به تصویب مجلس شورای ملی رساند. \\\\n\\\\nروز ۲۷ دی ۱۳۱۴ علی منصور از وزارت راه برکنار و بازداشت شد. پیگرد قضائی و محاکمه وزیران طبق قانون می\\u200cبایست با تصویب مجلس صورت می\\u200cگرفت محسن صدر وزیر عدلیه در پنجم بهمن لایحه\\u200cای به مجلس تسلیم کرد و مجوز گرفت. در ۲۸ اسفند کمیسیون عدلیه گزارشی از پرونده منصور به مجلس داد که دوران وزارت علی منصور را چنین توصیف می\\u200cکرد:\\\\n\\\\n«وضعیت معاملاتى وزارت طرف و جریان اموران در زمان تصدى على منصور فوق\\u200cالعاده مختل و خراب بوده و بازار ارتشا و سو\\u200cء استفاده در این وزارتخانه رواج کامل داشته و اکثر نیز منتهى بر اضرار دولت و تفریط مالیه مملکت گردیده است و شخص على منصور نیز علاوه بر این که از اکثر معاملات وزارت طرق به طرق مختلفه سوءاستفاده نموده است، با وجود اطلاع از وضعیت ناگوار وزارتخانه به هیچ وجه درصدد اصلاح و جلوگیرى از ارتشاء و سوء\\u200cاستفاده\\u200cهاى سایر مستخدمین برنیامده است». \\\\n\\\\nبنا بر پرونده علی منصور، على\\u200cاصغر طالقانى مدیر داخلى شرکت سوئدی سنتاب اعتراف کرده بود که پانزده هزار تومان در سه نوبت براى امضای قرارداد ساخته سه پل\\u200c شخصاً به على منصور پرداخته است: پنج هزار تومان اول را بعد از مناقصه پل\\u200cهاى بین پل\\u200cسفید تا چابکسر شب در منزل شخصى منصور و در پاکتى محتوى پنجاه اسکناس یکصد تومانی به او پرداخته، پنج هزار تومان دوم را برای دریافت قرارداد ساخت بقیه پل\\u200cهاى مازندران و پنج هزار تومان سوم برای قرارداد ساخت پل\\u200c بندر پهلوى به غازیان. \\\\n\\\\nمنصور متهم بود که نه تنها خود مستقیما رشوه گرفته، بلکه از رشوه\\u200cگیری مدیران زیردستش نیز خبرداشته و برخوردی با آنها نکرده، علاوه بر اینکه مقررات مربوطه به مناقصه را آن هم در معاملاتى که هر یک به صدها هزار تومان می\\u200cرسیده، نادیده می\\u200cگرفته است. و اگر هم در مواردی اقدام به مناقصه می\\u200cکرده، مناقصه را «اشخاص غیر\\u200cصحیح آن هم بى\\u200cترتیب» انجام می\\u200cداده اند. \\\\n\\\\nاز جمله مواردی که منصور متهم بود مناقصه را رعایت نکرده، خریداری کشتى مخصوص سلطنتى از شرکتی هلندی و همچنین خرید کشتى شن\\u200cکش از شرکت شى\\u200cشاو آلمانى به بهای بیش از دو میلیون و یکصد هزار تومان که طبق پرونده او، هم ۴۸۰ هزار تومان گرانتر از فروشنده دیگر خریده و هم قانون واردات و صادرات را رعایت نکرده بوده که ملزم می\\u200cکرد واردات کالا بایستی در برابر صدور کالا باشد. \\\\n\\\\nاتهام رشوه گیری محمد نبوی، پدر همسر علی منصور نیز به پای او نوشته شد. نبوی اعتراف کرده بود که از شرکتی هلندی برای اخذ قرارداد ساخت بندر نوشهر، سی\\u200cهزار تومان رشوه گرفته بوده است. عزت\\u200cالله هدایت مهندس طرق که او نیز متهم به دریافت رشوه از همین شرکت هلندی بود، اعتراف کرده بود که محمد نبوى به او گفته که بخشی از آن سی\\u200cهزار تومان به ساخت خانه على منصور اختصاص یافته است. مأموران رسیدگی کننده به پرونده منصور همچنین با توجه به «قرابت» محمد نبوى با على منصور و عدم تناسب مبلغ سی هزار تومان با «مساعدتى که شخص نبوى می\\u200cتوانست نسبت به قرارداد بندر» انجام دهد به این نتیجه رسیده بودند که او بخشی از رشوه را برای منصور گرفته بوده است. \\\\n\\\\nبا این حال، منصور در نهایت تبرئه شد. در ۳۱ امرداد ۱۳۱۵ هیئت عمومی مستشاران دیوان تمییز به ریاست رضاقلی هدایت تشکیل جلسه داد. پس از دو روز دادگاه پایان پذیرفت و رأی بر تبرئه منصور صادر و پرونده سایرین هم به دیوان جزای عمال دولت احاله شد. شاه از تبرئه منصور ناراضی بود، لاجرم رضاقلی هدایت رئیس دیوان عالی تمییز را منفصل کرد و صدر نیز از وزارت دادگستری استعفا داد.\\\\n\\\\nپس از دو سال از علی منصور دلجویی شد و او را سر کار برگرداندند. در بیستم شهریور ۱۳۱۷ محمود جم دوباره منصور را به دولتش بازگرداند و وزارت صناعت و معادن را به او سپرد. کمی بعد در مهر ماه نام وزارت صناعت و معادن رسما به پیشه و هنر تغییر یافت.\\\\n\\\\nعلی منصور در وزارت پیشه و هنر در جهت فعال کردن معادن و جذب سرمایه به بخش معدن و نظام\\u200cمند کردن کشف و استخراج معادن کوشید. قراردادی با شرکتی هلندی برای اکتشاف و استخراج معادن در ایران بست و نخستین قانون معادن در ایران را در شانزدهم بهمن ۱۳۱۷ به تصویب مجلس شورای ملی رساند.\\\\n\\\\nمنصور در هشتم تیر ۱۳۱۹ به جای متین دفتری به نخست\\u200cوزیری منصوب شد و فردای آن روز دولت خود را به مجلس معرفی کرد که همان اعضای دولت متین دفتری بود. با اینکه جنگ جهانی دوم و اعلام جنگ متفقین و متحدین به یکدیگر در سال پیش آغاز شده بود، اما حمله آلمان به فرانسه و رویارویی طرفین عملا چند هفته پیش از آغاز نخست وزیری منصور بود.\\\\n\\\\nدولت\\u200cهای شوروی و انگلیس توسط سفیران خود در تهران در روزهای ۲۸ تیر و ۲۵ امرداد ۱۳۲۰ تذکاریه\\u200cهایی (یادداشت\\u200cهایی) به منصور دادند و خواهان اخراج بخش عمده آلمانی\\u200cهاى مقیم ایران شدند. منصور در پاسخ آن\\u200cها چه در مذاکرات متعدد شفاهى و چه با ارسال یادداشت\\u200cهایى به مسکو و لندن در هفتم و سی\\u200cام امرداد اطمینان\\u200c داد که دولت او مراقبت\\u200c رفتار همه شهروندان بیگانه خواهد بود تا از آلمانى\\u200cهای مشغول به کار در ایران خطری سر نزند. او همچنین برای اطمینان خاطر دادن به شوروی و انگلیس شروع به کاستن از شمار آلمانی\\u200cها در ایران کرد.\\\\n\\\\nبا این حال ساعت چهار بامداد سوم شهریور ۱۳۲۰ سفیران شوروى و انگلیس به خانه منصور رفتند و هر کدام یادداشتى به او دادند که علاوه بر تکرار همان خواست قبلی درباره اخراج آلمانی\\u200cها، در آن\\u200cها تهدید به حمله نظامی هم عنوان شده بود. همزمان با حضور این دو سفیر در خانه منصور، نیروهای انگلیس از بندر شاهپور و خرمشهر و قصر شیرین و نیروهاى شوروى از جلفا وارد ایران شدند. شب همان روز سوم شهریور، رضا شاه منصور را برکنار کرد و نخست وزیری را به محمدعلی فروغی داد.\\\\n\\\\nفروغی منصور را استاندار خراسان کرد و تولیت آستان قدس رضوی را هم به او داد. منصور تا سال ۱۳۲۳ در مشهد بود تا به تهران احضار شد و مدتی بیکار بود تا اینکه در سال ۱۳۲۵ بار دیگر استاندار آذربایجان شد ولی در برابر مشکلات تاب نیاورد و به تهران بازگشت. سمت بعدی\\u200cاش عضویت در شورای عالی اقتصاد و مدتی هم ریاست شورای عالی برنامه کشور بود. \\\\n\\\\nدر نوروز ۱۳۲۹ منصور با حمایت روشن سفارت و شخص سفیر بریتانیا یعنی لوروژتل، پس از ساعد مراغه\\u200cای، نخست\\u200cوزیر شد، زیرا انگلیسی\\u200cها او را قادر به قبولاندن قرارداد الحاقی به مجلس می\\u200cدانستند. در نتیجه منصور بدون رای تمایل مجلس به نخست\\u200cوزیری رسید.\\\\n\\\\nمنصور در ایام نخست\\u200cوزیری برای جلب نمایندگان به خواسته\\u200cهای جبهه ملی با نظر مساعد برخورد می\\u200cکرد. همچنین آیت\\u200cالله کاشانی را که پس از ترور شاه به لبنان تبعید شده بود به ایران دعوت کرد. بالاخره منصور قرارداد الحاقی را به مجلس تقدیم کرد ولی نظری در موافقت با آن ابراز نکرد و خواست که مجلس قرارداد را بررسی کند. بریتانیا که تردید منصور در دفاع از قرارداد را دید با نظر مثبت به نخست\\u200cوزیری سرلشکر رزم\\u200cآرا تمایل نشان داد.\\\\n\\\\nپس از سه ماه نخست\\u200cوزیری، روز پنجم تیر ۱۳۲۹ منصور به دربار احضار و به صورت غیرمنتظره\\u200cای از او خواسته شد استعفا بدهد. او استعفا را به شرطی پذیرفت که حکم سفارت ایتالیا به او داده شود، سرانجام همان جا به مدیرالملک جم که در ایتالیا سفیر شد تلگراف کردند که بازگردد و منصور استعفای دولتش را تقدیم کرد.\\\\n\\\\nمنصور در سال ۱۳۳۱ سفیر ایران در ترکیه و در سال ۱۳۴۲ سفیر سیار ایران در دول اروپایی شد که چهار سال در این سمت باقی بود و سپس به ایران بازگشت و در سال ۱۳۵۳ دار فانی را وداع گفت. حسنعلی منصور فرزند او بود.\\\\n\\\\n\"}']"
      ]
     },
     "execution_count": 12,
     "metadata": {
      "tags": []
     },
     "output_type": "execute_result"
    }
   ],
   "source": [
    "files = ['text/AA/*']\n",
    "articles_rdd = sc.textFile(','.join(files)) # Now you have a RDD with wikipedia posts\n",
    "articles_rdd.take(1)"
   ]
  },
  {
   "cell_type": "markdown",
   "metadata": {
    "application/vnd.databricks.v1+cell": {
     "inputWidgets": {},
     "nuid": "d3d42ce9-91f0-457a-a3e7-374f7742f926",
     "showTitle": false,
     "title": ""
    },
    "id": "c8Do5znPM4Ga"
   },
   "source": [
    "# Section 2: Preprocessing (20 Points)\n",
    "\n",
    "In this section we will find and remove stop words and also remove the words with a low count in the corpus"
   ]
  },
  {
   "cell_type": "code",
   "execution_count": 13,
   "metadata": {
    "application/vnd.databricks.v1+cell": {
     "inputWidgets": {},
     "nuid": "6653e327-7477-4f71-b008-6a2791da8b04",
     "showTitle": false,
     "title": ""
    },
    "colab": {
     "base_uri": "https://localhost:8080/"
    },
    "id": "MC90_pKIM4Ga",
    "outputId": "fe0ecc46-0748-4345-d53a-5cf16d1b9b21"
   },
   "outputs": [
    {
     "data": {
      "text/plain": [
       "[{'id': '12125',\n",
       "  'text': 'علی منصور\\n\\nرجبعلی منصور (۱۲۶۵ – ۲۱ آذر ۱۳۵۳ تهران)، ملقب به منصورالملک، سیاست\\u200cمدار دوره قاجار و پهلوی و نخست\\u200cوزیر ایران در دوران رضا شاه و محمدرضا شاه پهلوی بود.\\n\\nپدرش میرزا علی\\u200cخان آشتیانی بود. تحصیلات مقدماتی و متوسطه را در مدارس مظفری و دارالفنون به پایان رساند و مطابق معمول زمان در حسن خط و شیوه نگارش نیز جد و جهدی از خود بروز داد. سپس وارد مدرسه سیاسی شد و در ۱۲۸۵ از این مدرسه فارغ\\u200cالتحصیل شد و به استخدام وزارت امور خارجه درآمد. \\n\\nاستخدامش در وزارت خارجه مقارن بود با اوائل جنبش مشروطه و سال\\u200cها در اداره انگلیس آن وزارتخانه خدمت کرد که ریاستش با حسن رئیس ظهیرالملک بود. با دختر رئیس خود ازدواج کرد و در سال ۱۲۹۴ به ریاست اداره انگلیس رسید. در همین سمت لقب منصورالملک گرفت و علاوه بر سمت دولتی خود، در مدرسه سیاسی به تدریس حقوق در یونان و روم قدیم پرداخت. گفته شده که منصورالملک در سمت رئیس اداره انگلیس در انعقاد قرارداد ۱۹۱۹ نقش مهمی داشت.\\n\\nعلی منصور در سال ۱۲۹۸ به کفالت وزارت خارجه منصوب شد. پس از سقوط وثوق\\u200cالدوله در سمت معاون میرزا اسدالله خان مشارالسلطنه، وزیر امور خارجه ابقا شد. در کابینه\\u200cهای سپهدار رشتی و سیدضیاءالدین همچنان معاون وزیر امور خارجه بود. در کابینه قوام\\u200cالسلطنه که خودش وزارت داخله را به عهده داشت، منصورالملک معاون و عملا کفیل (سرپرست) وزارت داخله شد. \\n\\nاز جمله مهمترین رخدادهایی که در این دوره مسئولیت او رخ داد، حمله سمیتقو به مناطقی از آذربایجان بود. منصورالملک که هم\\u200cزمان با معاونت وزارت داخله، حکمرانی ارومیه را نیز بر عهده داشت، مستقیم درگیر فروخواباندن غائله سمیتقو بود. \\n\\nدولتهایی که از آن پس مشیرالدوله، قوام\\u200cالسلطنه، مستوفی\\u200cالممالک و سردار\\u200cسپه تشکیل دادند، هیچکدام وزیر داخله نداشت و منصور\\u200cالملک در همه این دولتها وزارت داخله را سرپرستی می کرد تا هشتم شهریور ۱۳۰۳ که سردار\\u200cسپه امیر\\u200cاقتدار را وزیر داخله کرد و منصور\\u200cالملک معاون او شد. از آن پس در دولتهای فروغی و مستوفی نیز همچنان معاون وزارت داخله ماند تا در سال ۱۳۰۶ والی آذربایجان شد. سپس برای نخستین بار در در سال ۱۳۰۸ به وزارت رسید و مخبرالسلطنه هدایت در کابینه خود او را وزیر داخله کرد. \\n\\nمنصور در فروردین ۱۳۱۲ وزیر طرق و شوارع (راه) شد. بهره\\u200cبرداری از راه آهن در زمان وزارت او آغاز شد و در دوازدهم امرداد ۱۳۱۴ لایحه تشکیل موسسه دولتی راه\\u200cآهن را برای تصدی بهره\\u200cبرداری از شبکه راه آهن به تصویب مجلس شورای ملی رساند. \\n\\nروز ۲۷ دی ۱۳۱۴ علی منصور از وزارت راه برکنار و بازداشت شد. پیگرد قضائی و محاکمه وزیران طبق قانون می\\u200cبایست با تصویب مجلس صورت می\\u200cگرفت محسن صدر وزیر عدلیه در پنجم بهمن لایحه\\u200cای به مجلس تسلیم کرد و مجوز گرفت. در ۲۸ اسفند کمیسیون عدلیه گزارشی از پرونده منصور به مجلس داد که دوران وزارت علی منصور را چنین توصیف می\\u200cکرد:\\n\\n«وضعیت معاملاتى وزارت طرف و جریان اموران در زمان تصدى على منصور فوق\\u200cالعاده مختل و خراب بوده و بازار ارتشا و سو\\u200cء استفاده در این وزارتخانه رواج کامل داشته و اکثر نیز منتهى بر اضرار دولت و تفریط مالیه مملکت گردیده است و شخص على منصور نیز علاوه بر این که از اکثر معاملات وزارت طرق به طرق مختلفه سوءاستفاده نموده است، با وجود اطلاع از وضعیت ناگوار وزارتخانه به هیچ وجه درصدد اصلاح و جلوگیرى از ارتشاء و سوء\\u200cاستفاده\\u200cهاى سایر مستخدمین برنیامده است». \\n\\nبنا بر پرونده علی منصور، على\\u200cاصغر طالقانى مدیر داخلى شرکت سوئدی سنتاب اعتراف کرده بود که پانزده هزار تومان در سه نوبت براى امضای قرارداد ساخته سه پل\\u200c شخصاً به على منصور پرداخته است: پنج هزار تومان اول را بعد از مناقصه پل\\u200cهاى بین پل\\u200cسفید تا چابکسر شب در منزل شخصى منصور و در پاکتى محتوى پنجاه اسکناس یکصد تومانی به او پرداخته، پنج هزار تومان دوم را برای دریافت قرارداد ساخت بقیه پل\\u200cهاى مازندران و پنج هزار تومان سوم برای قرارداد ساخت پل\\u200c بندر پهلوى به غازیان. \\n\\nمنصور متهم بود که نه تنها خود مستقیما رشوه گرفته، بلکه از رشوه\\u200cگیری مدیران زیردستش نیز خبرداشته و برخوردی با آنها نکرده، علاوه بر اینکه مقررات مربوطه به مناقصه را آن هم در معاملاتى که هر یک به صدها هزار تومان می\\u200cرسیده، نادیده می\\u200cگرفته است. و اگر هم در مواردی اقدام به مناقصه می\\u200cکرده، مناقصه را «اشخاص غیر\\u200cصحیح آن هم بى\\u200cترتیب» انجام می\\u200cداده اند. \\n\\nاز جمله مواردی که منصور متهم بود مناقصه را رعایت نکرده، خریداری کشتى مخصوص سلطنتى از شرکتی هلندی و همچنین خرید کشتى شن\\u200cکش از شرکت شى\\u200cشاو آلمانى به بهای بیش از دو میلیون و یکصد هزار تومان که طبق پرونده او، هم ۴۸۰ هزار تومان گرانتر از فروشنده دیگر خریده و هم قانون واردات و صادرات را رعایت نکرده بوده که ملزم می\\u200cکرد واردات کالا بایستی در برابر صدور کالا باشد. \\n\\nاتهام رشوه گیری محمد نبوی، پدر همسر علی منصور نیز به پای او نوشته شد. نبوی اعتراف کرده بود که از شرکتی هلندی برای اخذ قرارداد ساخت بندر نوشهر، سی\\u200cهزار تومان رشوه گرفته بوده است. عزت\\u200cالله هدایت مهندس طرق که او نیز متهم به دریافت رشوه از همین شرکت هلندی بود، اعتراف کرده بود که محمد نبوى به او گفته که بخشی از آن سی\\u200cهزار تومان به ساخت خانه على منصور اختصاص یافته است. مأموران رسیدگی کننده به پرونده منصور همچنین با توجه به «قرابت» محمد نبوى با على منصور و عدم تناسب مبلغ سی هزار تومان با «مساعدتى که شخص نبوى می\\u200cتوانست نسبت به قرارداد بندر» انجام دهد به این نتیجه رسیده بودند که او بخشی از رشوه را برای منصور گرفته بوده است. \\n\\nبا این حال، منصور در نهایت تبرئه شد. در ۳۱ امرداد ۱۳۱۵ هیئت عمومی مستشاران دیوان تمییز به ریاست رضاقلی هدایت تشکیل جلسه داد. پس از دو روز دادگاه پایان پذیرفت و رأی بر تبرئه منصور صادر و پرونده سایرین هم به دیوان جزای عمال دولت احاله شد. شاه از تبرئه منصور ناراضی بود، لاجرم رضاقلی هدایت رئیس دیوان عالی تمییز را منفصل کرد و صدر نیز از وزارت دادگستری استعفا داد.\\n\\nپس از دو سال از علی منصور دلجویی شد و او را سر کار برگرداندند. در بیستم شهریور ۱۳۱۷ محمود جم دوباره منصور را به دولتش بازگرداند و وزارت صناعت و معادن را به او سپرد. کمی بعد در مهر ماه نام وزارت صناعت و معادن رسما به پیشه و هنر تغییر یافت.\\n\\nعلی منصور در وزارت پیشه و هنر در جهت فعال کردن معادن و جذب سرمایه به بخش معدن و نظام\\u200cمند کردن کشف و استخراج معادن کوشید. قراردادی با شرکتی هلندی برای اکتشاف و استخراج معادن در ایران بست و نخستین قانون معادن در ایران را در شانزدهم بهمن ۱۳۱۷ به تصویب مجلس شورای ملی رساند.\\n\\nمنصور در هشتم تیر ۱۳۱۹ به جای متین دفتری به نخست\\u200cوزیری منصوب شد و فردای آن روز دولت خود را به مجلس معرفی کرد که همان اعضای دولت متین دفتری بود. با اینکه جنگ جهانی دوم و اعلام جنگ متفقین و متحدین به یکدیگر در سال پیش آغاز شده بود، اما حمله آلمان به فرانسه و رویارویی طرفین عملا چند هفته پیش از آغاز نخست وزیری منصور بود.\\n\\nدولت\\u200cهای شوروی و انگلیس توسط سفیران خود در تهران در روزهای ۲۸ تیر و ۲۵ امرداد ۱۳۲۰ تذکاریه\\u200cهایی (یادداشت\\u200cهایی) به منصور دادند و خواهان اخراج بخش عمده آلمانی\\u200cهاى مقیم ایران شدند. منصور در پاسخ آن\\u200cها چه در مذاکرات متعدد شفاهى و چه با ارسال یادداشت\\u200cهایى به مسکو و لندن در هفتم و سی\\u200cام امرداد اطمینان\\u200c داد که دولت او مراقبت\\u200c رفتار همه شهروندان بیگانه خواهد بود تا از آلمانى\\u200cهای مشغول به کار در ایران خطری سر نزند. او همچنین برای اطمینان خاطر دادن به شوروی و انگلیس شروع به کاستن از شمار آلمانی\\u200cها در ایران کرد.\\n\\nبا این حال ساعت چهار بامداد سوم شهریور ۱۳۲۰ سفیران شوروى و انگلیس به خانه منصور رفتند و هر کدام یادداشتى به او دادند که علاوه بر تکرار همان خواست قبلی درباره اخراج آلمانی\\u200cها، در آن\\u200cها تهدید به حمله نظامی هم عنوان شده بود. همزمان با حضور این دو سفیر در خانه منصور، نیروهای انگلیس از بندر شاهپور و خرمشهر و قصر شیرین و نیروهاى شوروى از جلفا وارد ایران شدند. شب همان روز سوم شهریور، رضا شاه منصور را برکنار کرد و نخست وزیری را به محمدعلی فروغی داد.\\n\\nفروغی منصور را استاندار خراسان کرد و تولیت آستان قدس رضوی را هم به او داد. منصور تا سال ۱۳۲۳ در مشهد بود تا به تهران احضار شد و مدتی بیکار بود تا اینکه در سال ۱۳۲۵ بار دیگر استاندار آذربایجان شد ولی در برابر مشکلات تاب نیاورد و به تهران بازگشت. سمت بعدی\\u200cاش عضویت در شورای عالی اقتصاد و مدتی هم ریاست شورای عالی برنامه کشور بود. \\n\\nدر نوروز ۱۳۲۹ منصور با حمایت روشن سفارت و شخص سفیر بریتانیا یعنی لوروژتل، پس از ساعد مراغه\\u200cای، نخست\\u200cوزیر شد، زیرا انگلیسی\\u200cها او را قادر به قبولاندن قرارداد الحاقی به مجلس می\\u200cدانستند. در نتیجه منصور بدون رای تمایل مجلس به نخست\\u200cوزیری رسید.\\n\\nمنصور در ایام نخست\\u200cوزیری برای جلب نمایندگان به خواسته\\u200cهای جبهه ملی با نظر مساعد برخورد می\\u200cکرد. همچنین آیت\\u200cالله کاشانی را که پس از ترور شاه به لبنان تبعید شده بود به ایران دعوت کرد. بالاخره منصور قرارداد الحاقی را به مجلس تقدیم کرد ولی نظری در موافقت با آن ابراز نکرد و خواست که مجلس قرارداد را بررسی کند. بریتانیا که تردید منصور در دفاع از قرارداد را دید با نظر مثبت به نخست\\u200cوزیری سرلشکر رزم\\u200cآرا تمایل نشان داد.\\n\\nپس از سه ماه نخست\\u200cوزیری، روز پنجم تیر ۱۳۲۹ منصور به دربار احضار و به صورت غیرمنتظره\\u200cای از او خواسته شد استعفا بدهد. او استعفا را به شرطی پذیرفت که حکم سفارت ایتالیا به او داده شود، سرانجام همان جا به مدیرالملک جم که در ایتالیا سفیر شد تلگراف کردند که بازگردد و منصور استعفای دولتش را تقدیم کرد.\\n\\nمنصور در سال ۱۳۳۱ سفیر ایران در ترکیه و در سال ۱۳۴۲ سفیر سیار ایران در دول اروپایی شد که چهار سال در این سمت باقی بود و سپس به ایران بازگشت و در سال ۱۳۵۳ دار فانی را وداع گفت. حسنعلی منصور فرزند او بود.\\n\\n',\n",
       "  'title': 'علی منصور',\n",
       "  'url': 'https://fa.wikipedia.org/wiki?curid=12125'}]"
      ]
     },
     "execution_count": 13,
     "metadata": {
      "tags": []
     },
     "output_type": "execute_result"
    }
   ],
   "source": [
    "import json\n",
    "import re \n",
    "perisan_alphabet = \"آ-ی\"\n",
    "#zero_width_none_joiner\n",
    "zwnj = \"\\u200C\"\n",
    "persian_num = \"\\u0660-\\u0669\\u06F0-\\u06F9\"\n",
    "vowels = \"\\u064E\\u0650\\u064F\\u064B\\u064D\\u064C\"\n",
    "hamze  = \"\\u0621\"\n",
    "tashdid = \"\\u0651\"\n",
    "word_reg = \"[\" + perisan_alphabet + zwnj + persian_num + vowels + hamze + tashdid+ \"]\" + \"+\"\n",
    "\n",
    "def word_regex(string):\n",
    "  return re.findall(word_reg, string)\n",
    "  \n",
    "def word_extractor(wiki):\n",
    "  words = []\n",
    "  words.extend(word_regex(wiki['title']))\n",
    "  words.extend(word_regex(wiki['text']))\n",
    "  tuples = [(word, wiki['id']) for word in words]\n",
    "  return tuples\n",
    "\n",
    "def article_remove_sp(article):\n",
    "  for word in stopwords:\n",
    "        #start of line\n",
    "        article['title']= re.sub('^'+word+'\\s+','', article['title'])\n",
    "        article['text']= re.sub('^'+word+'\\s+','', article['text'])\n",
    "        \n",
    "        #middle of line\n",
    "        article['title']= re.sub(r\"(\\s+|\\()\"+word+ \"(\\s+|\\))\", r'\\1\\2', article['title'])\n",
    "        article['text']= re.sub(r\"(\\s+|\\()\"+word+ \"(\\s+|\\))\", r'\\1\\2', article['text'])\n",
    "        \n",
    "        #end of line\n",
    "        article['title']= re.sub(r'\\s+'+word+\"([$.،:;]+)\",r'\\1', article['title'])\n",
    "        article['text']= re.sub(r'\\s+'+word+\"([$.،:;]+)\",r'\\1', article['text'])\n",
    "        \n",
    "  return article\n",
    "\n",
    "\n",
    "  \n",
    "articles_rdd = articles_rdd.map(json.loads) # parse the json string\n",
    "articles_rdd.take(1)\n",
    "\n"
   ]
  },
  {
   "cell_type": "code",
   "execution_count": 14,
   "metadata": {
    "application/vnd.databricks.v1+cell": {
     "inputWidgets": {},
     "nuid": "841875e0-ee50-4cfa-9c71-6603198c3b4b",
     "showTitle": false,
     "title": ""
    },
    "colab": {
     "base_uri": "https://localhost:8080/"
    },
    "id": "3ztIMCosM4Gd",
    "outputId": "6573bdc3-14b4-4c3d-96cb-21c93f944e5a"
   },
   "outputs": [
    {
     "data": {
      "text/plain": [
       "[('علی', '12125')]"
      ]
     },
     "execution_count": 14,
     "metadata": {
      "tags": []
     },
     "output_type": "execute_result"
    }
   ],
   "source": [
    "words_rdd = articles_rdd.flatMap(word_extractor)# extract words from title and description\n",
    "words_rdd.take(1)\n"
   ]
  },
  {
   "cell_type": "code",
   "execution_count": 15,
   "metadata": {
    "application/vnd.databricks.v1+cell": {
     "inputWidgets": {},
     "nuid": "aec961aa-e24c-4973-a8b6-16c5b2d90a42",
     "showTitle": false,
     "title": ""
    },
    "colab": {
     "base_uri": "https://localhost:8080/"
    },
    "id": "-6WHVDdBM4Gf",
    "outputId": "f39d3360-80e8-4a88-ff3a-564d15926f25"
   },
   "outputs": [
    {
     "name": "stdout",
     "output_type": "stream",
     "text": [
      "[('رساند', (['12125', '12125', '12125', '12152', '12227', '12234', '12566', '12598', '12608', '12608', '12650', '12662', '9051', '9073', '9084', '9121', '9396', '9400', '9404', '8094', '8094', '8094', '8094', '8105', '8681', '8681', '8681', '8681', '8681', '8681', '8681', '2494', '2494', '2608', '2608', '2608', '2608', '2608', '2608', '2608', '2608', '2608', '2608', '2608', '2608', '2608', '2608', '2608', '2608', '2608', '2608', '2608', '2608', '2608', '2608', '2608', '2608', '2608', '2608', '2608', '2608', '2608', '2608', '2608', '2608', '2608', '2608', '2631', '2645', '2645', '35858', '35858', '35858', '35858', '35963', '35963', '36039', '36237', '36325', '36424', '36823', '36823', '10437', '10502', '10502', '10502', '10502', '10502', '10502', '10502', '10502', '10502', '10502', '10502', '10502', '10502', '10502', '10502', '10502', '10502', '10502', '10502', '10502', '10502', '10502', '10581', '10608', '10608', '10656', '10656', '10656', '10665', '10678', '10678', '10678', '10678', '13885', '13894', '13944', '13978', '14022', '14080', '14094', '14094', '14094', '14094', '14122', '14122', '14123', '14123', '14136', '14137', '14145', '44421', '44421', '44474', '44677', '44677', '44784', '44829', '44875', '44884', '34142', '34183', '34219', '34245', '34371', '34637', '34702', '41980', '41997', '41997', '42326', '42326', '42340', '42346', '42346', '42346', '42409', '42437', '30751', '30774', '30794', '30794', '30802', '30803', '30902', '30906', '30982', '31083', '31182', '31292', '31455', '48419', '48520', '48565', '48704', '48723', '48723', '48817', '48817', '48841', '48895', '48895', '48929', '48936', '48936', '48936', '48989', '1428', '1428', '1438', '1521', '1546', '1584', '37181', '37181', '37245', '37295', '37354', '37354', '37389', '37848', '37863', '37999', '38041', '38041', '38042', '38042', '38042', '38042', '38042', '5192', '5293', '5381', '5428', '5508', '5508', '5508', '5508', '5508', '8765', '8765', '8802', '8844', '8844', '8856', '8859', '8893', '8903', '8903', '8984', '8988', '11081', '11081', '11140', '11152', '11153', '11173', '11175', '11321', '11324', '17152', '17205', '17214', '17229', '30019', '30019', '30025', '30180', '30351', '30360', '30528', '30528', '30528', '30533', '7282', '7335', '7352', '7357', '54300', '54314', '54352', '54353', '54369', '54455', '54576', '54610', '54631', '54639', '54689', '54689', '54850', '55015', '55131', '20138', '20176', '20176', '20194', '20206', '20206', '20208', '20562', '11482', '11482', '11524', '11525', '11613', '11679', '11721', '25065', '25067', '25068', '25173', '25186', '25186', '25285', '25309', '25320', '25440', '25613', '38700', '38716', '38724', '38736', '38764', '38764', '38764', '38764', '38764', '38764', '38764', '38777', '38835', '38835', '39196', '39220', '39220', '39220', '39220', '39220', '39220', '39220', '39220', '39220', '39220', '39220', '39220', '39220', '39220', '39220', '39220', '39220', '39220', '39220', '39220', '39220', '39220', '39220', '39220', '39353', '39655', '12920', '12937', '12937', '21680', '21696', '21709', '21767', '21786', '21976', '22060', '22145', '22164', '22172', '2323', '2461', '4779', '4843', '6522', '6568', '6702', '6702', '6703', '6735', '6749', '6749', '20673', '20683', '20841', '20863', '20907', '20932', '20954', '20977', '21150', '21160', '21160', '21181', '32121', '32611', '32671', '32790', '32903', '32905', '14832', '14835', '14840', '15060', '15090', '15133', '15133', '15133', '55306', '55762', '55845', '56286', '56286', '56286', '56495', '56504', '56541', '56629', '56645', '27405', '27405', '27640', '27640', '27640', '27640', '27642', '27642', '27642', '27642', '27642', '27642', '27642', '27642', '27642', '27642', '27707', '27709', '27847', '27921', '27921', '27921', '28024', '28092', '28092', '28092', '28227', '3915', '4024', '4048', '4058', '21214', '21224', '21346', '21368', '21460', '21460', '21492', '21520', '21573', '21604', '3099', '3099', '3099', '3099', '3103', '3103', '3103', '3120', '56732', '56732', '56886', '56940', '57073', '57299', '57410', '57410', '57496', '930', '930', '981', '982', '982', '42444', '42444', '42469', '42469', '42505', '42549', '42800', '43158', '43387', '43387', '43404', '63823', '63952', '64162', '64221', '64719', '65078', '67381', '67704', '17388', '17415', '17488', '17734', '17753', '17964', '17974', '28255', '28357', '28369', '28422', '28536', '28664', '7767', '7876', '7876', '7917', '7917', '7917', '57675', '57675', '57790', '57917', '57917', '57917', '57944', '58019', '58033', '58050', '26680', '26688', '26694', '26728', '26728', '26873', '26982', '27011', '27239', '27265', '27285', '27285', '27375', '3429', '3654', '3672', '3672', '3751', '3790', '3798', '3826', '3826', '3894', '3894', '3894', '7416', '7555', '7555', '7567', '7601', '7619', '7694', '7732', '7742', '7742', '7742', '7742', '19818', '19818', '19953', '19960', '19993', '52713', '52870', '53331', '53331', '53357', '53393', '53684', '53743', '53768', '53790', '53815', '53834', '54078', '54181', '54246', '38111', '38119', '38185', '38185', '38194', '38221', '38257', '38287', '38287', '38334', '38385', '38452', '38452', '38486', '38486', '38509', '38590', '5549', '5553', '5553', '5553', '5553', '5553', '5759', '5872', '5966', '11939', '12006', '12018', '12018', '12018', '12030', '12030', '12030', '12030', '12032', '12032', '12032', '12032', '12032', '58071', '58181', '58181', '58181', '58181', '58181', '58181', '58181', '58181', '58181', '58181', '58181', '58181', '58181', '58181', '58181', '58181', '58181', '58181', '58181', '58181', '58181', '58181', '58378', '58786', '58903', '58975', '50253', '50253', '50301', '50573', '50804', '50804', '50833', '50833', '50979', '51262', '29468', '29813', '29818', '29959', '18712', '18863', '18863', '18864', '18912', '18996', '6909', '6919', '6969', '6978', '6978', '6978', '6978', '6978', '6978', '6978', '6978', '6978', '6978', '6978', '6978', '6978', '6978', '6978', '6985', '7063', '15981', '16018', '16040', '16099', '16107', '16107', '16110', '16111', '16111', '16241', '16241', '16241', '45800', '45800', '45800', '45871', '45922', '45922', '45922', '46201', '46388', '46440', '46448', '48322', '43932', '44114', '44114', '44114', '34949', '35007', '35007', '35248', '35322', '35324', '35324', '35362', '35468', '35551', '35551', '1631', '1679', '1680', '1836', '1836', '1841', '1841', '1841', '40001', '40049', '40050', '40471', '40513', '40542', '646', '655', '748', '748', '757', '813', '61237', '61267', '61267', '61314', '62368', '62399', '62402', '63293', '49273', '49594', '49647', '49647', '50135', '7123', '7188', '7236', '26169', '26169', '26189', '26189', '26189', '26223', '26223', '26239', '26247', '26247', '26281', '26281', '26378', '26398', '26408', '26532', '26650', '26650', '24456', '24520', '24539', '24722', '24815', '24817', '24818', '24818', '24818', '24818', '24818', '24818', '24818', '24818', '24818', '24818', '24875', '24875', '24891', '24905', '51297', '51297', '51764', '51831', '51908', '52059', '52185', '52185', '6752', '6753', '6753', '6753', '6753', '6753', '6772', '6810', '6849', '13039', '13387', '9770', '9927', '18022', '18046', '18046', '18169', '18258', '18269', '18296', '15407', '15407', '15417', '15650', '15834', '16280', '16341', '16382', '16440', '16468', '16515', '16538', '16544', '16544', '16623', '16623', '16623', '16675', '10902', '10915', '10918', '10927', '10927', '10951', '10990', '11015', '9935', '10011', '10025', '10154', '10195', '10195', '10304', '22890', '22945', '22945', '22968', '22990', '23011', '23128', '23128', '23173', '23423', '23887', '23887', '23887', '23901', '23926', '23955', '24011', '24011', '24206', '24212', '24268', '24268', '24276', '24367', '24367', '24371', '59180', '59567', '59744', '61027', '61027', '61160', '40554', '40554', '40555', '40562', '40787', '41071', '41566', '41578', '41595', '41814', '41815', '41843', '41843', '41843', '41843', '41890', '2926', '2974', '2981', '2670', '2677', '2761', '2762', '2860', '2860', '2862', '67765', '67766', '67910', '67910', '67989', '68102', '68152', '68297', '68315', '68347', '68383', '68383', '68383', '68383', '68383', '68383', '68383', '68383', '68919', '4363', '4394', '4397', '4398', '4401', '4401', '4401', '4401', '4406', '4425', '4593', '23449', '23514', '23514', '23533', '23533', '23557', '23672', '23672', '23674', '23728', '23773', '23773', '23773', '31528', '31528', '31550', '31551', '31654', '31678', '31865', '31917', '31948', '31953', '31966', '19165', '19203', '19225', '19288', '19469', '19580', '19580', '19580', '19580', '26098', '14160', '14164', '14164', '14166', '14166', '14172', '14198', '14274', '14345', '14550', '14551', '14554', '14554', '33070', '33085', '33085', '33085', '33085', '33085', '33085', '33085', '33176', '33568', '33670', '33670', '33670', '33979', '34050', '34050', '34050', '34050', '34050', '34050', '34050', '34050', '34050', '34050', '34050', '34050', '34050', '6164', '6187', '6289', '6475', '6475', '6475', '6475', '6475', '6475', '6475', '6475', '1860', '1861', '1861', '1861', '1861', '1861', '1861', '1334', '1334', '1334', '13505', '13520', '13520', '13597', '13734', '13741', '13768', '13778', '13778', '22254', '22483', '22701', '22701', '22742', '22780'], 1051))]\n"
     ]
    }
   ],
   "source": [
    "words_count_rdd = words_rdd.map(lambda word : (word[0], ([word[1]], 1))).reduceByKey(lambda x,y : (x[0]+y[0],x[1]+y[1])) # make an rdd with the count of each word\n",
    "print(words_count_rdd.take(1))\n"
   ]
  },
  {
   "cell_type": "code",
   "execution_count": 16,
   "metadata": {
    "application/vnd.databricks.v1+cell": {
     "inputWidgets": {},
     "nuid": "35ade665-e1e2-4fa8-b6a2-6ccde5f323e5",
     "showTitle": false,
     "title": ""
    },
    "id": "BoVuRq18M4Gk"
   },
   "outputs": [],
   "source": [
    "top_100 = words_count_rdd.sortBy(lambda x : x[1][1], ascending = False).take(100)# find the 100 most common words\n",
    "#print(top_100[0])\n",
    "stopwords = ['در', 'با', 'و', 'شده', 'دارد', 'او', 'برای', 'بود', 'شد', 'آن', 'یک', 'را', 'این', 'است', 'که', 'از', 'به', 'و', 'کرد', 'پس', 'یکی', 'عنوان', 'دو', 'وی', 'نیز', 'واقع', 'یا', 'تا', 'شده', 'خود', 'بر', 'بوده‌شود', 'هر', 'اما', 'همچنین', 'هم', 'دیگر', 'بخش', 'توسط', 'می‌کند', 'آن‌است', 'می‌باشد', 'هستند', 'مورد', 'باشد', 'وجود', 'داشته', 'دارای', 'انجام', 'می', 'بعد', 'می‌شود', 'بین', 'داد', 'شود', 'زمان', 'زیر', 'داشت', 'روی', 'بودند', 'کنند']"
   ]
  },
  {
   "cell_type": "code",
   "execution_count": 17,
   "metadata": {
    "application/vnd.databricks.v1+cell": {
     "inputWidgets": {},
     "nuid": "662929eb-14ea-4869-974e-f74ba2d75d67",
     "showTitle": false,
     "title": ""
    },
    "colab": {
     "base_uri": "https://localhost:8080/"
    },
    "id": "fwq_esbAM4Go",
    "outputId": "406fd835-5a3d-45d0-efb1-b1f0cf87d439"
   },
   "outputs": [
    {
     "data": {
      "text/plain": [
       "[{'id': '12125',\n",
       "  'text': 'علی منصور\\n\\nرجبعلی منصور (۱۲۶۵ – ۲۱ آذر ۱۳۵۳ تهران)، ملقب  منصورالملک، سیاست\\u200cمدار دوره قاجار  پهلوی  نخست\\u200cوزیر ایران  دوران رضا شاه  محمدرضا شاه پهلوی.\\n\\nپدرش میرزا علی\\u200cخان آشتیانی. تحصیلات مقدماتی  متوسطه   مدارس مظفری  دارالفنون  پایان رساند  مطابق معمول   حسن خط  شیوه نگارش  جد  جهدی   بروز. سپس وارد مدرسه سیاسی    ۱۲۸۵   مدرسه فارغ\\u200cالتحصیل    استخدام وزارت امور خارجه درآمد. \\n\\nاستخدامش  وزارت خارجه مقارن   اوائل جنبش مشروطه  سال\\u200cها  اداره انگلیس  وزارتخانه خدمت   ریاستش  حسن رئیس ظهیرالملک.  دختر رئیس  ازدواج    سال ۱۲۹۴  ریاست اداره انگلیس رسید.  همین سمت لقب منصورالملک گرفت  علاوه  سمت دولتی،  مدرسه سیاسی  تدریس حقوق  یونان  روم قدیم پرداخت. گفته   منصورالملک  سمت رئیس اداره انگلیس  انعقاد قرارداد ۱۹۱۹ نقش مهمی.\\n\\nعلی منصور  سال ۱۲۹۸  کفالت وزارت خارجه منصوب.   سقوط وثوق\\u200cالدوله  سمت معاون میرزا اسدالله خان مشارالسلطنه، وزیر امور خارجه ابقا.  کابینه\\u200cهای سپهدار رشتی  سیدضیاءالدین همچنان معاون وزیر امور خارجه.  کابینه قوام\\u200cالسلطنه  خودش وزارت داخله   عهده، منصورالملک معاون  عملا کفیل (سرپرست) وزارت داخله. \\n\\n جمله مهمترین رخدادهایی    دوره مسئولیت  رخ، حمله سمیتقو  مناطقی  آذربایجان. منصورالملک  هم\\u200cزمان  معاونت وزارت داخله، حکمرانی ارومیه    عهده، مستقیم درگیر فروخواباندن غائله سمیتقو. \\n\\nدولتهایی     مشیرالدوله، قوام\\u200cالسلطنه، مستوفی\\u200cالممالک  سردار\\u200cسپه تشکیل دادند، هیچکدام وزیر داخله نداشت  منصور\\u200cالملک  همه  دولتها وزارت داخله  سرپرستی    هشتم شهریور ۱۳۰۳  سردار\\u200cسپه امیر\\u200cاقتدار  وزیر داخله   منصور\\u200cالملک معاون.     دولتهای فروغی  مستوفی  همچنان معاون وزارت داخله ماند   سال ۱۳۰۶ والی آذربایجان. سپس  نخستین بار  در سال ۱۳۰۸  وزارت رسید  مخبرالسلطنه هدایت  کابینه    وزیر داخله. \\n\\nمنصور  فروردین ۱۳۱۲ وزیر طرق  شوارع (راه). بهره\\u200cبرداری  راه آهن   وزارت  آغاز    دوازدهم امرداد ۱۳۱۴ لایحه تشکیل موسسه دولتی راه\\u200cآهن   تصدی بهره\\u200cبرداری  شبکه راه آهن  تصویب مجلس شورای ملی رساند. \\n\\nروز ۲۷ دی ۱۳۱۴ علی منصور  وزارت راه برکنار  بازداشت. پیگرد قضائی  محاکمه وزیران طبق قانون می\\u200cبایست  تصویب مجلس صورت می\\u200cگرفت محسن صدر وزیر عدلیه  پنجم بهمن لایحه\\u200cای  مجلس تسلیم   مجوز گرفت.  ۲۸ اسفند کمیسیون عدلیه گزارشی  پرونده منصور  مجلس   دوران وزارت علی منصور  چنین توصیف می\\u200cکرد:\\n\\n«وضعیت معاملاتى وزارت طرف  جریان اموران   تصدى على منصور فوق\\u200cالعاده مختل  خراب بوده  بازار ارتشا  سو\\u200cء استفاده   وزارتخانه رواج کامل   اکثر  منتهى  اضرار دولت  تفریط مالیه مملکت گردیده   شخص على منصور  علاوه     اکثر معاملات وزارت طرق  طرق مختلفه سوءاستفاده نموده،   اطلاع  وضعیت ناگوار وزارتخانه  هیچ وجه درصدد اصلاح  جلوگیرى  ارتشاء  سوء\\u200cاستفاده\\u200cهاى سایر مستخدمین برنیامده است». \\n\\nبنا  پرونده علی منصور، على\\u200cاصغر طالقانى مدیر داخلى شرکت سوئدی سنتاب اعتراف کرده   پانزده هزار تومان  سه نوبت براى امضای قرارداد ساخته سه پل\\u200c شخصاً  على منصور پرداخته: پنج هزار تومان اول    مناقصه پل\\u200cهاى  پل\\u200cسفید  چابکسر شب  منزل شخصى منصور   پاکتى محتوى پنجاه اسکناس یکصد تومانی   پرداخته، پنج هزار تومان دوم   دریافت قرارداد ساخت بقیه پل\\u200cهاى مازندران  پنج هزار تومان سوم  قرارداد ساخت پل\\u200c بندر پهلوى  غازیان. \\n\\nمنصور متهم   نه تنها  مستقیما رشوه گرفته، بلکه  رشوه\\u200cگیری مدیران زیردستش  خبرداشته  برخوردی  آنها نکرده، علاوه  اینکه مقررات مربوطه  مناقصه     معاملاتى     صدها هزار تومان می\\u200cرسیده، نادیده می\\u200cگرفته.  اگر   مواردی اقدام  مناقصه می\\u200cکرده، مناقصه  «اشخاص غیر\\u200cصحیح   بى\\u200cترتیب»  می\\u200cداده اند. \\n\\n جمله مواردی  منصور متهم  مناقصه  رعایت نکرده، خریداری کشتى مخصوص سلطنتى  شرکتی هلندی   خرید کشتى شن\\u200cکش  شرکت شى\\u200cشاو آلمانى  بهای بیش   میلیون  یکصد هزار تومان  طبق پرونده،  ۴۸۰ هزار تومان گرانتر  فروشنده  خریده   قانون واردات  صادرات  رعایت نکرده بوده  ملزم می\\u200cکرد واردات کالا بایستی  برابر صدور کالا. \\n\\nاتهام رشوه گیری محمد نبوی، پدر همسر علی منصور   پای  نوشته. نبوی اعتراف کرده    شرکتی هلندی  اخذ قرارداد ساخت بندر نوشهر، سی\\u200cهزار تومان رشوه گرفته بوده. عزت\\u200cالله هدایت مهندس طرق    متهم  دریافت رشوه  همین شرکت هلندی، اعتراف کرده   محمد نبوى   گفته  بخشی   سی\\u200cهزار تومان  ساخت خانه على منصور اختصاص یافته. مأموران رسیدگی کننده  پرونده منصور   توجه  «قرابت» محمد نبوى  على منصور  عدم تناسب مبلغ سی هزار تومان  «مساعدتى  شخص نبوى می\\u200cتوانست نسبت  قرارداد بندر»  دهد   نتیجه رسیده    بخشی  رشوه   منصور گرفته بوده. \\n\\n  حال، منصور  نهایت تبرئه.  ۳۱ امرداد ۱۳۱۵ هیئت عمومی مستشاران دیوان تمییز  ریاست رضاقلی هدایت تشکیل جلسه.    روز دادگاه پایان پذیرفت  رأی  تبرئه منصور صادر  پرونده سایرین   دیوان جزای عمال دولت احاله. شاه  تبرئه منصور ناراضی، لاجرم رضاقلی هدایت رئیس دیوان عالی تمییز  منفصل   صدر   وزارت دادگستری استعفا.\\n\\n   سال  علی منصور دلجویی     سر کار برگرداندند.  بیستم شهریور ۱۳۱۷ محمود جم دوباره منصور   دولتش بازگرداند  وزارت صناعت  معادن    سپرد. کمی   مهر ماه نام وزارت صناعت  معادن رسما  پیشه  هنر تغییر یافت.\\n\\nعلی منصور  وزارت پیشه  هنر  جهت فعال کردن معادن  جذب سرمایه   معدن  نظام\\u200cمند کردن کشف  استخراج معادن کوشید. قراردادی  شرکتی هلندی  اکتشاف  استخراج معادن  ایران بست  نخستین قانون معادن  ایران   شانزدهم بهمن ۱۳۱۷  تصویب مجلس شورای ملی رساند.\\n\\nمنصور  هشتم تیر ۱۳۱۹  جای متین دفتری  نخست\\u200cوزیری منصوب   فردای  روز دولت    مجلس معرفی   همان اعضای دولت متین دفتری.  اینکه جنگ جهانی دوم  اعلام جنگ متفقین  متحدین  یکدیگر  سال پیش آغاز،  حمله آلمان  فرانسه  رویارویی طرفین عملا چند هفته پیش  آغاز نخست وزیری منصور.\\n\\nدولت\\u200cهای شوروی  انگلیس  سفیران   تهران  روزهای ۲۸ تیر  ۲۵ امرداد ۱۳۲۰ تذکاریه\\u200cهایی (یادداشت\\u200cهایی)  منصور دادند  خواهان اخراج  عمده آلمانی\\u200cهاى مقیم ایران شدند. منصور  پاسخ آن\\u200cها چه  مذاکرات متعدد شفاهى  چه  ارسال یادداشت\\u200cهایى  مسکو  لندن  هفتم  سی\\u200cام امرداد اطمینان\\u200c   دولت  مراقبت\\u200c رفتار همه شهروندان بیگانه خواهد    آلمانى\\u200cهای مشغول  کار  ایران خطری سر نزند.    اطمینان خاطر دادن  شوروی  انگلیس شروع  کاستن  شمار آلمانی\\u200cها  ایران.\\n\\n  حال ساعت چهار بامداد سوم شهریور ۱۳۲۰ سفیران شوروى  انگلیس  خانه منصور رفتند   کدام یادداشتى   دادند  علاوه  تکرار همان خواست قبلی درباره اخراج آلمانی\\u200cها،  آن\\u200cها تهدید  حمله نظامی. همزمان  حضور   سفیر  خانه منصور، نیروهای انگلیس  بندر شاهپور  خرمشهر  قصر شیرین  نیروهاى شوروى  جلفا وارد ایران شدند. شب همان روز سوم شهریور، رضا شاه منصور  برکنار   نخست وزیری   محمدعلی فروغی.\\n\\nفروغی منصور  استاندار خراسان   تولیت آستان قدس رضوی. منصور  سال ۱۳۲۳  مشهد    تهران احضار   مدتی بیکار   اینکه  سال ۱۳۲۵ بار  استاندار آذربایجان  ولی  برابر مشکلات تاب نیاورد   تهران بازگشت. سمت بعدی\\u200cاش عضویت  شورای عالی اقتصاد  مدتی  ریاست شورای عالی برنامه کشور. \\n\\n نوروز ۱۳۲۹ منصور  حمایت روشن سفارت  شخص سفیر بریتانیا یعنی لوروژتل،   ساعد مراغه\\u200cای، نخست\\u200cوزیر، زیرا انگلیسی\\u200cها   قادر  قبولاندن قرارداد الحاقی  مجلس می\\u200cدانستند.  نتیجه منصور بدون رای تمایل مجلس  نخست\\u200cوزیری رسید.\\n\\nمنصور  ایام نخست\\u200cوزیری  جلب نمایندگان  خواسته\\u200cهای جبهه ملی  نظر مساعد برخورد می\\u200cکرد.  آیت\\u200cالله کاشانی     ترور شاه  لبنان تبعید    ایران دعوت. بالاخره منصور قرارداد الحاقی   مجلس تقدیم  ولی نظری  موافقت   ابراز نکرد  خواست  مجلس قرارداد  بررسی کند. بریتانیا  تردید منصور  دفاع  قرارداد  دید  نظر مثبت  نخست\\u200cوزیری سرلشکر رزم\\u200cآرا تمایل نشان.\\n\\n  سه ماه نخست\\u200cوزیری، روز پنجم تیر ۱۳۲۹ منصور  دربار احضار   صورت غیرمنتظره\\u200cای   خواسته  استعفا بدهد.  استعفا   شرطی پذیرفت  حکم سفارت ایتالیا   داده، سرانجام همان جا  مدیرالملک جم   ایتالیا سفیر  تلگراف کردند  بازگردد  منصور استعفای دولتش  تقدیم.\\n\\nمنصور  سال ۱۳۳۱ سفیر ایران  ترکیه   سال ۱۳۴۲ سفیر سیار ایران  دول اروپایی   چهار سال   سمت باقی   سپس  ایران بازگشت   سال ۱۳۵۳ دار فانی  وداع گفت. حسنعلی منصور فرزند.\\n\\n',\n",
       "  'title': 'علی منصور',\n",
       "  'url': 'https://fa.wikipedia.org/wiki?curid=12125'}]"
      ]
     },
     "execution_count": 17,
     "metadata": {
      "tags": []
     },
     "output_type": "execute_result"
    }
   ],
   "source": [
    "articles_without_stopwords_rdd = articles_rdd.map(article_remove_sp) # remove stopwords from the article title and text\n",
    "articles_without_stopwords_rdd.take(1)"
   ]
  },
  {
   "cell_type": "code",
   "execution_count": 18,
   "metadata": {
    "application/vnd.databricks.v1+cell": {
     "inputWidgets": {},
     "nuid": "1526f8b2-14c8-49a7-9330-2c6d1b486c0c",
     "showTitle": false,
     "title": ""
    },
    "colab": {
     "base_uri": "https://localhost:8080/"
    },
    "id": "7XSKW6SLM4Gs",
    "outputId": "a3199fb2-d068-4f26-dc3e-961f72e088cb"
   },
   "outputs": [
    {
     "name": "stdout",
     "output_type": "stream",
     "text": [
      "10 Sample uncommon words :\n"
     ]
    }
   ],
   "source": [
    "import numpy as np\n",
    "def word_mapper(word):\n",
    "  tuples = []\n",
    "  for id in list(word[1]):\n",
    "    tuples.extend((id, word[0]))\n",
    "    \n",
    "  return tuples\n",
    "\n",
    "def id_extractor(word):\n",
    "  id_list = np.unique(word[1][0])\n",
    "  out_list = []\n",
    "  for id in id_list:\n",
    "    out_list.append((id, [word[0]]))\n",
    "    \n",
    "  return out_list\n",
    "\n",
    "MIN_COUNT = 20\n",
    "uncommon_words = words_count_rdd.filter(lambda x : x[1][1] < MIN_COUNT).map(lambda x : x[0]).collect() # list of the words that have occured less than MIN_COUNT in the whole corpus\n",
    "id_uncommon = words_count_rdd.filter(lambda x : x[1][1] < MIN_COUNT).flatMap(id_extractor).reduceByKey(lambda x,y: x+y)\n",
    "#joined_wrods_id = words_id_rdd.filter(lambda x : x[0] in uncommon_words).flatMap(word_mapper).groupByKey()\n",
    "print(\"10 Sample uncommon words :\")\n",
    "#print(uncommon_words[0:10])\n",
    "#print(\"Length of uncommon words = \" + str(len(uncommon_words)))"
   ]
  },
  {
   "cell_type": "code",
   "execution_count": 19,
   "metadata": {
    "application/vnd.databricks.v1+cell": {
     "inputWidgets": {},
     "nuid": "12347855-ba3d-4bf4-8c97-558610428e20",
     "showTitle": false,
     "title": ""
    },
    "id": "Tk7yDgC3M4Gu"
   },
   "outputs": [],
   "source": [
    "def article_remove_uncommon(article):\n",
    "  wiki = article[1][0]\n",
    "  word_list = article[1][1]\n",
    "  for word in word_list:\n",
    "        wiki['title']= re.sub(word,'', wiki['title'])\n",
    "        wiki['text']= re.sub(word,'', wiki['text'])\n",
    "        #start of line\n",
    "        #article['title']= re.sub('^'+word+'\\s+','', article['title'])\n",
    "        #article['text']= re.sub('^'+word+'\\s+','', article['text'])\n",
    "\n",
    "\n",
    "        #middle of line\n",
    "        #article['title']= re.sub(r\"(\\s+|\\()\"+word+ \"(\\s+|\\))\", r'\\1\\2', article['title'])\n",
    "        #article['text']= re.sub(r\"(\\s+|\\()\"+word+ \"(\\s+|\\))\", r'\\1\\2', article['text'])\n",
    "\n",
    "        #end of line\n",
    "        #article['title']= re.sub(r'\\s+'+word+\"([$.،:;]+)\",r'\\1', article['title'])\n",
    "        #article['text']= re.sub(r'\\s+'+word+\"([$.،:;]+)\",r'\\1', article['text'])\n",
    "        \n",
    "  return wiki\n",
    "    \n",
    "\n",
    "articles_cleaned_rdd = articles_without_stopwords_rdd.map(lambda wiki: (wiki['id'], wiki)).join(id_uncommon).map(article_remove_uncommon) #remove uncommon words from articles_cleaned_rdd\n",
    "#articles_cleaned_rdd.take(1)"
   ]
  },
  {
   "cell_type": "markdown",
   "metadata": {
    "id": "Cv3twPUrzh5B"
   },
   "source": []
  },
  {
   "cell_type": "markdown",
   "metadata": {
    "application/vnd.databricks.v1+cell": {
     "inputWidgets": {},
     "nuid": "ebd4a98b-321f-402e-ac37-e7e855b37f5f",
     "showTitle": false,
     "title": ""
    },
    "id": "PjnLSDmkM4G4"
   },
   "source": [
    "# Section 3: Exploration (15 Points)\n",
    "Please answer the following questions regarding the dataset:\n",
    "* How many unique words remain after the cleaning procedure?\n"
   ]
  },
  {
   "cell_type": "code",
   "execution_count": 21,
   "metadata": {
    "application/vnd.databricks.v1+cell": {
     "inputWidgets": {},
     "nuid": "f5d34198-5a10-4ca6-8eed-79909d8c2810",
     "showTitle": false,
     "title": ""
    },
    "colab": {
     "base_uri": "https://localhost:8080/"
    },
    "id": "ZCeTGtXcM4G4",
    "outputId": "b74705c1-7efe-4449-d948-532d60c32067"
   },
   "outputs": [
    {
     "name": "stdout",
     "output_type": "stream",
     "text": [
      "Number of unique words : 24699\n"
     ]
    }
   ],
   "source": [
    "#number of word\n",
    "remove_words = stopwords + uncommon_words\n",
    "num_word = words_count_rdd.filter(lambda x : x[0] not in remove_words).collect()\n",
    "\n",
    "print(\"Number of unique words : \" + str(len(num_word)))"
   ]
  },
  {
   "cell_type": "markdown",
   "metadata": {
    "application/vnd.databricks.v1+cell": {
     "inputWidgets": {},
     "nuid": "362b615d-b2f3-4868-a53e-f0f8e8a54a52",
     "showTitle": false,
     "title": ""
    },
    "id": "lUj7L7fsM4HJ"
   },
   "source": [
    "# Section 4: TF-IDF + Search (30 Points)"
   ]
  },
  {
   "cell_type": "code",
   "execution_count": 22,
   "metadata": {
    "application/vnd.databricks.v1+cell": {
     "inputWidgets": {},
     "nuid": "46a99181-9ccf-4b61-a08f-4db6ed91b47b",
     "showTitle": false,
     "title": ""
    },
    "colab": {
     "base_uri": "https://localhost:8080/"
    },
    "id": "qLnjF7IDM4HJ",
    "outputId": "d8c15f82-f2f3-4d7a-c5c7-e5bd9bd8b033"
   },
   "outputs": [
    {
     "data": {
      "text/plain": [
       "[{'id': '11760',\n",
       "  'text': 'سال کبیسه\\n\\nواژهٔ عربی کبیسه  ریشهٔ «» (فعل  ) به\\u200cمعنی پُر کردن چاه  خاک است؛   گاه\\u200cشماری، کبیسه عبارت   تعداد روز  روزهایی   رفع  سال\\u200cهای عمومی (تأخیر به\\u200cدلیل   چند سال)  مقدار واقعی   رفع نقصان سال\\u200cهای خاص نسبت  سال\\u200cهای،  سال معینی می\\u200cافزایند. سال کبیسه سالی   مقدار نقصان   افزوده.\\n\\n  خورشیدی تقریباً  چهار سال    قمری تقریباً  سه سال  روز کبیسه.   خورشیدی قمری، مثل گاه\\u200cشماری عبری  گاه\\u200cشماری چینی، تقریباً  سه سال  ماه کبیسه.\\n\\n  مبتنی  تقویم خورشیدی، مثل تقویم گریگوری  تقویم هجری خورشیدی  سال\\u200cهای عادی   سال\\u200cهای کبیسه آن\\u200cها ، به\\u200cطور متوسط  حدود   سال، هشت سال کبیسه   سال عادی.   معمولاً   چهار سال  سال کبیسه   علاوه    تعدیل دقیق\\u200cتر  دوره\\u200cهایی بزرگتر،  حذف  افزودن فاصله  بعضی ،  آن\\u200cها کاسته.\\n\\nی تقویم هجری شمسی   کشور  طریق محاسبه لحظه تحویل سال  مقایسه   لحظه ظهر حقیقی  نصف النهار رسمی  کشور تعیین.  اینجا    حالت  ممکن  اتفاق بیفتد:\\n تقویم هجری خورشیدی علاوه  کبیسه چهارساله (کبیسه رباعی)، طبق محاسبات نجومی،  تعدیل دقیقتر (کاستن )، فاصله بعضی   بیشتر     دورهٔ ۲۹  ۳۳  ۳۷ ساله،  کبیسه پنج\\u200cساله (کبیسه )  آغاز محقق.\\n\\n تشخیص سال\\u200cهای کبیسه  گاهشماری رسمی ایران شیوه کاملاً یکنواختی  ندارد. چنانچه باقی\\u200cماندهٔ حاصل تقسیم سال  نظر  عدد ۳۳،   اعداد (۱، ۵، ۹، ۱۳، ۱۷، ۲۲، ۲۶  ۳۰)،  سال\\u200cهای اخیر  سال\\u200cهای ۱۳۴۳  ،  سال کبیسه    سال\\u200cهای  ۱۲۴۴  ۱۳۴۲ به\\u200cجای ۲۲، باقی\\u200cماندهٔ ۲۱ ملاک خواهد.   سال\\u200cها   مراتب تفاوت\\u200cهایی  اعداد  فوق.   مثال سال ۱۳۹۱ سالی کبیسه  چراکه باقی\\u200cماندهٔ تقسیم   عدد ۳۳ برابر عدد ۵.\\n\\n  تشخیص کبیسه بودن سال\\u200cهای هجری خورشیدی حسابی  شیوه یکنواختی  کمک جدول عددی.\\nجدول عددی تشخیص ی حسابی:\\n\\nطبق جدول عددی فوق اگر  باقیمانده تقسیم سال حسابی موردنظر  عدد ۱۲۸ ( متوالی)   اعداد جدول فوق باقی مانده باشند  سال کبیسه خواهد.   تفاوت   سال\\u200cهای ۱   هجری خورشیدی حسابی اعداد اصلاح  داخل ()   شماره بیشتر نسبت  عدد همجوار   بجای    باقی مانده ملاک خواهد  (بعلت شکاف   دوره بزرگ).\\n\\n تقویم گریگوری علاوه  ی معمول چهارساله، طبق قرارداد  تعدیل دقیقتر (کاستن )   چهار قرن سه کبیسه چهارساله حذف.\\n\\n تقویم میلادی نو سال\\u200cهایی   ۴  باشند (باقی\\u200cماندهٔ تقسیم  سال  ۴ برابر ۰ ) کبیسه    استثنا   میان سال\\u200cهایی   ۱۰۰  (سال\\u200cهای انتهای سده)، تنها آنهایی   ۴۰۰   کبیسه.\\n  مثال: سال ۲۰۰۴ میلادی سال کبیسه  (چون  ۴    سال انتهای سده نیست). سال ۱۹۰۰ میلادی     ۴   سال کبیسه نیست (چون  سال\\u200cهای انتهای سده    ۴۰۰  نیست). سال ۲۰۰۰ میلادی سال کبیسه  (چون سال انتهای سده    ۴۰۰   ).\\n\\n  قمری، مثل تقویم هجری قمری، طول سال\\u200cهای عادی   سال\\u200cهای کبیسه .    معمولاً حدود  سه سال  بار سال کبیسه.  تقویم هجری قمری هلالی هیچگونه نظامی  تعیین کبیسه منظم سال\\u200cها قابل تصور نیست،   تقویم هجری قمری حسابی   دورهٔ سی ساله، ۱۱ سال کبیسه    ۸  سه ساله  ۳   ساله:\\n\\n رایج\\u200cترین تقویم هجری قمری حسابی طی  دوره سی ساله کبیسه منظم  قرار  محاسبه شده\\u200cاست:\\n اساس  کبیسه\\u200cگیری، چنانچه باقی\\u200cماندهٔ حاصل تقسیم سال قمری  عدد ۳۰   اعداد (۲، ۵، ۷، ۱۰، ۱۳، ۱۶، ۱۸، ۲۱، ۲۴، ۲۶  ۲۹)، سال مذکور کبیسه  طول  (۳۵۵ روزه).\\n\\n  خورشیدی قمری، مثل گاه\\u200cشماری عبری  گاه\\u200cشماری چینی، تقریباً  سه سال  ماه کبیسه    طول سال\\u200cهای عادی ۱۲ ماه  طول سال\\u200cهای کبیسه ۱۳ ماه.\\n\\n\\n\\nمحاسبه  تحویل سال خورشیدی  -۴۰۰۰ میلادی  +۲۵۰۰ میلادی (برابر  - خورشیدی  ۱۸۷۹ خورشیدی)   The Institut de Mecanique Celeste et de Calcul des Ephemerides (IMCCE)\\n',\n",
       "  'title': 'سال کبیسه',\n",
       "  'url': 'https://fa.wikipedia.org/wiki?curid=11760',\n",
       "  'vector': {'آغاز': 0.0005405881728802995,\n",
       "   'آنهایی': 0.0006307540288145139,\n",
       "   'آن\\u200cها': 0.0010429711697976425,\n",
       "   'اتفاق': 0.0006021525231003404,\n",
       "   'اخیر': 0.0006003518721339991,\n",
       "   'اساس': 0.0005666130475303501,\n",
       "   'استثنا': 0.0006304528350267558,\n",
       "   'اصلاح': 0.000617980333802214,\n",
       "   'اعداد': 0.0031202434945027083,\n",
       "   'افزودن': 0.0006266237897555945,\n",
       "   'افزوده': 0.0006179514548331853,\n",
       "   'النهار': 0.0006309348887271726,\n",
       "   'انتهای': 0.0024694978527064534,\n",
       "   'اگر': 0.0005695730678304053,\n",
       "   'ایران': 0.0005101300556765076,\n",
       "   'اینجا': 0.0006157934864628416,\n",
       "   'بار': 0.0005472425031913933,\n",
       "   'باشند': 0.0011725210606423973,\n",
       "   'باقی': 0.0011788744155720363,\n",
       "   'باقیمانده': 0.0006310253591217967,\n",
       "   'باقی\\u200cماندهٔ': 0.0031554284385192375,\n",
       "   'بجای': 0.0006290711856744823,\n",
       "   'برابر': 0.0016789669702728114,\n",
       "   'بزرگ': 0.000536567029521419,\n",
       "   'بزرگتر': 0.0006206783813603114,\n",
       "   'بعضی': 0.0011721586714885325,\n",
       "   'بعلت': 0.0006285920860782424,\n",
       "   'به\\u200cجای': 0.0006271593265310467,\n",
       "   'به\\u200cدلیل': 0.000626475198140603,\n",
       "   'به\\u200cطور': 0.0005528721805405497,\n",
       "   'به\\u200cمعنی': 0.0006299414912009872,\n",
       "   'بودن': 0.0005768141381895056,\n",
       "   'بیشتر': 0.0010513803759448148,\n",
       "   'بیفتد': 0.0006291311264984395,\n",
       "   'تأخیر': 0.0006271593265310467,\n",
       "   'تحویل': 0.0012452746927231586,\n",
       "   'تشخیص': 0.0018399292546980829,\n",
       "   'تصور': 0.0006155642258849021,\n",
       "   'تعداد': 0.0005733306645044463,\n",
       "   'تعدیل': 0.0018892836680761153,\n",
       "   'تعیین': 0.0011976655422681409,\n",
       "   'تفاوت': 0.0006063145959236719,\n",
       "   'تفاوت\\u200cهایی': 0.0006293410129074437,\n",
       "   'تقریباً': 0.002352107021526494,\n",
       "   'تقسیم': 0.0029131647245140627,\n",
       "   'تقویم': 0.006806372390655375,\n",
       "   'تنها': 0.0005410485503902143,\n",
       "   'جدول': 0.002488204949994372,\n",
       "   'حاصل': 0.0011976655422681409,\n",
       "   'حالت': 0.0005965421443836162,\n",
       "   'حدود': 0.0010857079397226092,\n",
       "   'حذف': 0.001226846980694231,\n",
       "   'حسابی': 0.003782175211122769,\n",
       "   'حقیقی': 0.0006221683675837137,\n",
       "   'خاص': 0.0005878183930605919,\n",
       "   'خاک': 0.0005905653623972172,\n",
       "   'خواهد': 0.0017576947708715612,\n",
       "   'خورشیدی': 0.0065901380045661285,\n",
       "   'داخل': 0.0005937640528435076,\n",
       "   'دقیقتر': 0.001262895822350967,\n",
       "   'دقیق\\u200cتر': 0.0006294310087888242,\n",
       "   'دوره': 0.0011229936645763834,\n",
       "   'دورهٔ': 0.0012039220292807144,\n",
       "   'دوره\\u200cهایی': 0.0006311158564919531,\n",
       "   'رایج\\u200cترین': 0.0006283528205643501,\n",
       "   'رباعی': 0.0006308444452955772,\n",
       "   'رسمی': 0.0011672120314606324,\n",
       "   'رفع': 0.001244219593631818,\n",
       "   'روز': 0.001106754712935723,\n",
       "   'روزه': 0.0006249932987483263,\n",
       "   'روزهایی': 0.0006318105671911342,\n",
       "   'ریشهٔ': 0.0006251707420292801,\n",
       "   'سال': 0.015801580742394072,\n",
       "   'ساله': 0.0029793593972790634,\n",
       "   'سالی': 0.001249336515356709,\n",
       "   'سال\\u200cها': 0.0012099149374955524,\n",
       "   'سال\\u200cهای': 0.00966990447695639,\n",
       "   'سال\\u200cهایی': 0.0012620507182435933,\n",
       "   'سده': 0.0024153069677979233,\n",
       "   'سه': 0.003219402177128514,\n",
       "   'سی': 0.0012045240263966756,\n",
       "   'شده\\u200cاست': 0.0004919410349341492,\n",
       "   'شماره': 0.0006124864520488535,\n",
       "   'شمسی': 0.0006180092155730211,\n",
       "   'شکاف': 0.0006276361583653864,\n",
       "   'شیوه': 0.001227985682708429,\n",
       "   'طبق': 0.0017650187565400445,\n",
       "   'طریق': 0.0005781443211612593,\n",
       "   'طول': 0.0022317749915478228,\n",
       "   'طی': 0.0005763138241587539,\n",
       "   'ظهر': 0.0006277853228683184,\n",
       "   'عادی': 0.0024433868461530774,\n",
       "   'عبارت': 0.0005952833348555335,\n",
       "   'عبری': 0.0012540209418641455,\n",
       "   'عدد': 0.0036791763391840837,\n",
       "   'عددی': 0.0018793364658101007,\n",
       "   'عربی': 0.0005936045952195199,\n",
       "   'علاوه': 0.001745295424238934,\n",
       "   'عمومی': 0.0005840938124109962,\n",
       "   'فاصله': 0.0011902460630302952,\n",
       "   'فعل': 0.0006276063343032774,\n",
       "   'فوق': 0.0018522098585958238,\n",
       "   'قابل': 0.0005696462574385158,\n",
       "   'قرار': 0.00048544251468098576,\n",
       "   'قرارداد': 0.0006174321120139545,\n",
       "   'قرن': 0.0005779431327771114,\n",
       "   'قمری': 0.005489513267186773,\n",
       "   'لحظه': 0.0012504598261032034,\n",
       "   'مانده': 0.0012149657631585127,\n",
       "   'ماه': 0.0022780971421716757,\n",
       "   'مبتنی': 0.0006184138547876528,\n",
       "   'متوالی': 0.0006260298622699077,\n",
       "   'متوسط': 0.0006098616104598369,\n",
       "   'مثال': 0.0011965843253902502,\n",
       "   'مثل': 0.0023781440658010218,\n",
       "   'محاسبات': 0.0006256444362411706,\n",
       "   'محاسبه': 0.0018652758376429648,\n",
       "   'محقق': 0.0006243730703962417,\n",
       "   'مذکور': 0.0006184717052925946,\n",
       "   'مراتب': 0.0006251411608808558,\n",
       "   'معمول': 0.0006130824052149595,\n",
       "   'معمولاً': 0.0011546808694084918,\n",
       "   'معینی': 0.0006272188893358024,\n",
       "   'مقایسه': 0.0006097492372249417,\n",
       "   'مقدار': 0.001207818659029431,\n",
       "   'ملاک': 0.001261026099723116,\n",
       "   'ممکن': 0.0005849945958668819,\n",
       "   'منظم': 0.001244102474997186,\n",
       "   'موردنظر': 0.0006310253591217967,\n",
       "   'میان': 0.0005385372774811767,\n",
       "   'میلادی': 0.0033473819893275925,\n",
       "   'می\\u200cافزایند': 0.0006315083237852941,\n",
       "   'نجومی': 0.0006292210599976962,\n",
       "   'ندارد': 0.0005802148784070831,\n",
       "   'نسبت': 0.0011370522919915225,\n",
       "   'نصف': 0.0006265346259994915,\n",
       "   'نظامی': 0.0005946426572836567,\n",
       "   'نظر': 0.0005337139619764862,\n",
       "   'نقصان': 0.0012637421039394373,\n",
       "   'نو': 0.0006081246371110727,\n",
       "   'نیست': 0.002245324353672937,\n",
       "   'هجری': 0.005417402999315415,\n",
       "   'هشت': 0.0006074271431032415,\n",
       "   'هلالی': 0.0006307841646478025,\n",
       "   'همجوار': 0.0006282033757172016,\n",
       "   'هیچگونه': 0.0006286519320483943,\n",
       "   'واقعی': 0.0006097211506255405,\n",
       "   'واژهٔ': 0.0006140783385907537,\n",
       "   'پنج\\u200cساله': 0.0006318710519697187,\n",
       "   'پُر': 0.0006306636392714953,\n",
       "   'چاه': 0.0006231070599787579,\n",
       "   'چراکه': 0.0006264454886033669,\n",
       "   'چنانچه': 0.001245392040681065,\n",
       "   'چند': 0.0005374961743416012,\n",
       "   'چهار': 0.0017055784379872837,\n",
       "   'چهارساله': 0.0018951595877768704,\n",
       "   'چون': 0.0016793199217888383,\n",
       "   'چینی': 0.0012396107497672944,\n",
       "   'کاستن': 0.0012613272785429906,\n",
       "   'کاسته': 0.0006260595308623496,\n",
       "   'کاملاً': 0.0005957112478383359,\n",
       "   'کبیسه': 0.02052093021034255,\n",
       "   'کبیسه\\u200cگیری': 0.000632143382536631,\n",
       "   'کردن': 0.0005606218990463985,\n",
       "   'کشور': 0.0010643648443309291,\n",
       "   'کمک': 0.0005799109131684929,\n",
       "   'گاهشماری': 0.0006306937661268227,\n",
       "   'گاه\\u200cشماری': 0.003147605157130008,\n",
       "   'گریگوری': 0.0012618697774543451,\n",
       "   'ی': 0.0016633101412226324,\n",
       "   'یکنواختی': 0.0012625334908436588,\n",
       "   '۰': 0.0006239602946938245,\n",
       "   '۱': 0.001152177950469373,\n",
       "   '۱۰': 0.0005813831358146908,\n",
       "   '۱۰۰': 0.0006074828815792563,\n",
       "   '۱۱': 0.0005994557230642468,\n",
       "   '۱۲': 0.0005915133061655358,\n",
       "   '۱۲۴۴': 0.0006320525785673861,\n",
       "   '۱۲۸': 0.0006304528350267558,\n",
       "   '۱۳': 0.0018094182642066088,\n",
       "   '۱۳۴۲': 0.0006277554840739057,\n",
       "   '۱۳۴۳': 0.0006288914344050279,\n",
       "   '۱۳۹۱': 0.0006255555617798826,\n",
       "   '۱۶': 0.0006012780848201884,\n",
       "   '۱۷': 0.0006022072629932361,\n",
       "   '۱۸': 0.0005992659869423287,\n",
       "   '۱۸۷۹': 0.000630633515407897,\n",
       "   '۱۹۰۰': 0.0006272188893358024,\n",
       "   '۲': 0.0005690856327942589,\n",
       "   '۲۰۰۰': 0.0006114676090604736,\n",
       "   '۲۰۰۴': 0.0006163674139579595,\n",
       "   '۲۱': 0.0012153560995680959,\n",
       "   '۲۲': 0.001212906866495748,\n",
       "   '۲۴': 0.0006086558442738957,\n",
       "   '۲۵۰۰': 0.0006277853228683184,\n",
       "   '۲۶': 0.0012246894710571448,\n",
       "   '۲۹': 0.0012258240203172034,\n",
       "   '۳': 0.0005730341016769582,\n",
       "   '۳۰': 0.0011879003976929287,\n",
       "   '۳۳': 0.0018745365277732463,\n",
       "   '۳۵۵': 0.000631659407900316,\n",
       "   '۳۷': 0.0006251411608808558,\n",
       "   '۴': 0.002306455619708599,\n",
       "   '۴۰۰': 0.0018612486342921906,\n",
       "   '۴۰۰۰': 0.0006279345610667176,\n",
       "   '۵': 0.0017239328542587775,\n",
       "   '۷': 0.000591012610450728,\n",
       "   '۸': 0.0005909336333971705,\n",
       "   '۹': 0.0005954437276228564}}]"
      ]
     },
     "execution_count": 22,
     "metadata": {
      "tags": []
     },
     "output_type": "execute_result"
    }
   ],
   "source": [
    "import math\n",
    "from operator import add\n",
    "# number of articles\n",
    "num_docs = articles_rdd.count()\n",
    "\n",
    "def vector_tf(wiki):\n",
    "  words = []\n",
    "  words.extend(word_regex(wiki['title']))\n",
    "  words.extend(word_regex(wiki['text']))\n",
    "  num_word_wiki = len(words)\n",
    "  \n",
    "  out_tuples = []\n",
    "  for word in num_word:\n",
    "    word_count = words.count(word[0])\n",
    "    if (num_word_wiki is not 0) and (word_count is not 0):\n",
    "      out_tuples.append(((word[0], wiki['id']), words.count(word[0])/num_word_wiki))\n",
    "      \n",
    "  return out_tuples\n",
    "\n",
    "def add_tfidf(wiki):\n",
    "  article = wiki[1][0]\n",
    "  article['vector'] = wiki[1][1]\n",
    "  return article\n",
    "\n",
    "def list_to_dict(wiki):\n",
    "  out_dict = dict(list(wiki[1]))\n",
    "  return (wiki[0], out_dict)\n",
    "\n",
    "# Length of tf-idf vector is the same as num_word (num_word is words after cleaning)\n",
    "# using flatMap to find tf vector of each article and return it as ((word, article_id), tf) ,then i map it to (word, (aticle_id, tf))\n",
    "tf_rdd = articles_cleaned_rdd.flatMap(vector_tf).map(lambda tuples: (tuples[0][0], (tuples[0][1], tuples[1])))\n",
    "# now i use tf_rdd to find document freq, we now if tf of one word in one article is greater than zero, then it is in that article\n",
    "word_df_rdd = tf_rdd.filter(lambda tuples: tuples[1][1] > 0 ).map(lambda tuples: (tuples[0], 1)).reduceByKey(lambda x,y: x+y).map(lambda tuples : (tuples[0], tuples[1]/num_docs)) # calculate document frequncy for each word\n",
    "# now by word_df we calculate idf vector (document frequency might be zero so i add 1 to it so : idf = 1 + N / (n_t + 1))\n",
    "idf_rdd = word_df_rdd.map(lambda tuples : (tuples[0], math.log10(1+ 1/(tuples[1]+1))))\n",
    "# then i join tf and idf, and then multiply them\n",
    "tf_idf_rdd = tf_rdd.join(idf_rdd).map(lambda tuples: (tuples[1][0][0], (tuples[0], tuples[1][0][1]*tuples[1][1])))\n",
    "tf_grouped_dict = tf_idf_rdd.groupByKey().map(list_to_dict)\n",
    "# adding tf_idf to articles\n",
    "articles_tf_idf_vectors = articles_cleaned_rdd.map(lambda wiki: (wiki['id'], wiki)).join(tf_grouped_dict).map(add_tfidf)#TODO: add `vector` key to articles_cleaned_rdd dictionary with the tf_idf dictionary\n",
    "articles_tf_idf_vectors.take(1)\n",
    "#ativ_sample = atiarticles_tf_idf_vectors.take(1)\n"
   ]
  },
  {
   "cell_type": "markdown",
   "metadata": {
    "application/vnd.databricks.v1+cell": {
     "inputWidgets": {},
     "nuid": "a87d089f-98a9-4589-8a27-0b4343386052",
     "showTitle": false,
     "title": ""
    },
    "id": "ITodu3npM4HX"
   },
   "source": [
    "## Searching"
   ]
  },
  {
   "cell_type": "code",
   "execution_count": 23,
   "metadata": {
    "application/vnd.databricks.v1+cell": {
     "inputWidgets": {},
     "nuid": "a1918696-1fb7-4205-8dc4-faf86994d0ad",
     "showTitle": false,
     "title": ""
    },
    "colab": {
     "base_uri": "https://localhost:8080/"
    },
    "id": "zoOY3lctM4HX",
    "outputId": "4a6da949-0e3d-49fb-ea4c-602626bd2b34"
   },
   "outputs": [
    {
     "name": "stdout",
     "output_type": "stream",
     "text": [
      "شاهنشاهی ساسانی\n",
      "https://fa.wikipedia.org/wiki?curid=2670\n",
      "۲۲۵ (میلادی)\n",
      "https://fa.wikipedia.org/wiki?curid=5319\n",
      "\n",
      "https://fa.wikipedia.org/wiki?curid=35393\n",
      "دجله\n",
      "https://fa.wikipedia.org/wiki?curid=8231\n",
      "سروان\n",
      "https://fa.wikipedia.org/wiki?curid=1939\n",
      "خانه\n",
      "https://fa.wikipedia.org/wiki?curid=18977\n",
      "\n",
      "https://fa.wikipedia.org/wiki?curid=16176\n",
      "تیسفون\n",
      "https://fa.wikipedia.org/wiki?curid=13186\n",
      "تخت سلیمان\n",
      "https://fa.wikipedia.org/wiki?curid=1672\n",
      "چیرگی اشکانیان  ارمنستان\n",
      "https://fa.wikipedia.org/wiki?curid=1827\n"
     ]
    }
   ],
   "source": [
    "from scipy.spatial.distance import cosine\n",
    "# i am not storing anything in dataframe\n",
    "import pandas as pd\n",
    "\n",
    "import numpy as np\n",
    "\n",
    "def intersection(lst1, lst2): \n",
    "    lst3 = [value for value in lst1 if value in lst2] \n",
    "    return lst3 \n",
    "\n",
    "def cosine_com(a, b):\n",
    "    key_a = a.keys()\n",
    "    key_b = b.keys()\n",
    "    key_i = intersection(key_a, key_b)\n",
    "    val_a = [a[x] for x in key_i]\n",
    "    val_b = [b[x] for x in key_i]\n",
    "    dot_all = np.dot(val_a, val_b)\n",
    "    norm_a = np.linalg.norm(list(a.values()))\n",
    "    norm_b = np.linalg.norm(list(b.values()))\n",
    "    return dot_all / (norm_a * norm_b)\n",
    "\n",
    "def query_word_find(wiki):\n",
    "  out_tuple = []\n",
    "  for word in query_words:\n",
    "    if(  word in wiki['title'] or word in wiki['text']):\n",
    "      out_tuple.append((word, 1))\n",
    "  return  out_tuple  \n",
    "\n",
    "query = 'هخامنشیان ساسانیان هگمتانه'\n",
    "query_words = query.split(' ')\n",
    "query_count = len(query_words)\n",
    "tf_query = {word : (query.count(word))/query_count  for word in query_words}\n",
    "wd_list = articles_cleaned_rdd.flatMap(query_word_find).reduceByKey(lambda x,y : x+y).collect()\n",
    "wd_dict = dict([(tuples[0], tuples[1]/num_docs) for tuples in wd_list])\n",
    "tf_idf_query = {word: tf * wd_dict[word] for word, tf in tf_query.items()}\n",
    "top_10_similar = articles_tf_idf_vectors.sortBy(lambda wiki: cosine_com(wiki['vector'], tf_idf_query), ascending= False).take(10)\n",
    "for article in top_10_similar:\n",
    "    print(article['title'])\n",
    "    print(article['url'])\n",
    "    "
   ]
  },
  {
   "cell_type": "markdown",
   "metadata": {
    "application/vnd.databricks.v1+cell": {
     "inputWidgets": {},
     "nuid": "6a0f5fdc-c3d9-494b-85eb-1f1487f0df4c",
     "showTitle": false,
     "title": ""
    },
    "id": "2uoxlsrSM4Hb"
   },
   "source": [
    "# Section 5: K-Means clustering (30 Points)"
   ]
  },
  {
   "cell_type": "markdown",
   "metadata": {
    "application/vnd.databricks.v1+cell": {
     "inputWidgets": {},
     "nuid": "df4b61f9-5eb9-463e-9a48-3bdeca907677",
     "showTitle": false,
     "title": ""
    },
    "id": "RHUfRS5XM4Hb"
   },
   "source": [
    "### Random initialization"
   ]
  },
  {
   "cell_type": "code",
   "execution_count": 24,
   "metadata": {
    "application/vnd.databricks.v1+cell": {
     "inputWidgets": {},
     "nuid": "a3d9d869-9cc7-4811-bdac-a3617ec2f8de",
     "showTitle": false,
     "title": ""
    },
    "id": "UZGKUtBmM4Hc"
   },
   "outputs": [],
   "source": [
    "import random\n",
    "CENTROID_NUM = 100\n",
    "\n",
    "centroids = []\n",
    "for i in range(CENTROID_NUM):\n",
    "  random_vector = dict([(num_word[i][0], random.uniform(0, 1)) for i in range(len(num_word))])# Initialize a random array with the size of tf-idf vectors\n",
    "  centroids.append(random_vector)"
   ]
  },
  {
   "cell_type": "markdown",
   "metadata": {
    "application/vnd.databricks.v1+cell": {
     "inputWidgets": {},
     "nuid": "bda26c7a-c0ef-4ac2-90d6-741e0ca78c5c",
     "showTitle": false,
     "title": ""
    },
    "id": "gdE6o_k1M4Hf"
   },
   "source": [
    "### Update centroids"
   ]
  },
  {
   "cell_type": "code",
   "execution_count": 25,
   "metadata": {
    "application/vnd.databricks.v1+cell": {
     "inputWidgets": {},
     "nuid": "7ec54b26-e7b2-458e-a218-4e64dade5908",
     "showTitle": false,
     "title": ""
    },
    "colab": {
     "base_uri": "https://localhost:8080/"
    },
    "id": "ii_wJ8MBM4Hf",
    "outputId": "fbcb2a9c-606c-4bb7-f772-73aea03d54b3"
   },
   "outputs": [
    {
     "name": "stdout",
     "output_type": "stream",
     "text": [
      "Iteration 0\n",
      "80.54919135112658\n",
      "Iteration 1\n",
      "23.04142786496699\n",
      "Iteration 2\n",
      "8.05856701135073\n"
     ]
    }
   ],
   "source": [
    "from collections import Counter\n",
    "\n",
    "def centroid_assigner(article):\n",
    "  cosine_sim = []\n",
    "  for i in range(CENTROID_NUM):\n",
    "      cosine_sim.append(cosine_com(article['vector'], centroids[i]))\n",
    "    \n",
    "  argmax_centroid = np.argmax(cosine_sim)\n",
    "  return (argmax_centroid, article)\n",
    "  \n",
    "def new_centroid_f(list_article):\n",
    "  articles = list(list_article[1])\n",
    "  len_articles = len(articles)\n",
    "  sum_articles = {word[0]:0 for word in num_word}\n",
    "  for i in range(len_articles):\n",
    "    for key in sum_articles: \n",
    "      if key in articles[i][1]['vector']: \n",
    "          sum_articles[key] = sum_articles[key] + articles[i][1]['vector'][key]\n",
    "  for key in sum_articles:\n",
    "    sum_articles[key] = sum_articles[key] / len_articles\n",
    "    \n",
    "  new_centroid =  sum_articles\n",
    "  return (new_centroid , articles[0][0])\n",
    "\n",
    "def find_distance():\n",
    "  dist_sum = 0\n",
    "  for i in range(CENTROID_NUM):\n",
    "    dist_sum += (1 - cosine_com(updated_centroids[i], centroids[i]))\n",
    "\n",
    "  return dist_sum\n",
    "EPOCHS = 3\n",
    "\n",
    "\n",
    "for i in range(EPOCHS):\n",
    "  vector_centroid_assignments_rdd = articles_tf_idf_vectors.map(centroid_assigner).map(lambda x : (x[0], (i, x[1]))) #assign the nearest centroid to each article\n",
    "  updated_centroids = vector_centroid_assignments_rdd.groupByKey().map(new_centroid_f).sortBy(lambda x: x[1]).map(lambda x: x[0]).collect() #update centroids based using a reduce on vector_centroid_assignments_rdd\n",
    "  distance =  find_distance() # compute the total amount of distance the centroids were moved\n",
    "  centroids = updated_centroids\n",
    "  print(\"Iteration %d\" % i)\n",
    "  print(distance)"
   ]
  },
  {
   "cell_type": "code",
   "execution_count": 26,
   "metadata": {
    "colab": {
     "base_uri": "https://localhost:8080/"
    },
    "id": "nHG4Ziwb7Xzj",
    "outputId": "438c3246-8964-4529-ad69-9c062f43211d"
   },
   "outputs": [
    {
     "name": "stdout",
     "output_type": "stream",
     "text": [
      "Two sample Articles from cluster 0 :\n",
      "شر (خواننده)\n",
      "https://fa.wikipedia.org/wiki?curid=25887\n",
      "ناتالی پورتمن\n",
      "https://fa.wikipedia.org/wiki?curid=32217\n",
      "Two sample Articles from cluster 1 :\n",
      "سلاح‌های خودکار\n",
      "https://fa.wikipedia.org/wiki?curid=23116\n",
      "ده\n",
      "https://fa.wikipedia.org/wiki?curid=26563\n",
      "Two sample Articles from cluster 2 :\n",
      "\n",
      "https://fa.wikipedia.org/wiki?curid=13283\n",
      "\n",
      "https://fa.wikipedia.org/wiki?curid=7487\n",
      "Two sample Articles from cluster 3 :\n",
      "کتاب کوچه\n",
      "https://fa.wikipedia.org/wiki?curid=59578\n",
      "ارسطو\n",
      "https://fa.wikipedia.org/wiki?curid=2634\n",
      "Two sample Articles from cluster 4 :\n",
      "گرشاسپ‌نامه\n",
      "https://fa.wikipedia.org/wiki?curid=11902\n",
      " \n",
      "https://fa.wikipedia.org/wiki?curid=66058\n",
      "Two sample Articles from cluster 5 :\n",
      " (چشمه)\n",
      "https://fa.wikipedia.org/wiki?curid=57079\n",
      "جلفا (آذربایجان شرقی)\n",
      "https://fa.wikipedia.org/wiki?curid=17101\n",
      "Two sample Articles from cluster 6 :\n",
      "جام جم\n",
      "https://fa.wikipedia.org/wiki?curid=44489\n",
      "باشگاه فوتبال ابومسلم خراسان\n",
      "https://fa.wikipedia.org/wiki?curid=40604\n",
      "Two sample Articles from cluster 7 :\n",
      "ولایت \n",
      "https://fa.wikipedia.org/wiki?curid=24617\n",
      "پرچم افغانستان\n",
      "https://fa.wikipedia.org/wiki?curid=58358\n",
      "Two sample Articles from cluster 8 :\n",
      "۱۰ شهریور\n",
      "https://fa.wikipedia.org/wiki?curid=12747\n",
      "۱۹۳۸\n",
      "https://fa.wikipedia.org/wiki?curid=49529\n",
      "Two sample Articles from cluster 9 :\n",
      "حکم\n",
      "https://fa.wikipedia.org/wiki?curid=24024\n",
      "\n",
      "https://fa.wikipedia.org/wiki?curid=45524\n",
      "Two sample Articles from cluster 10 :\n",
      "انقلاب آمریکا\n",
      "https://fa.wikipedia.org/wiki?curid=6807\n",
      "جان فاستر دالس\n",
      "https://fa.wikipedia.org/wiki?curid=21419\n",
      "Two sample Articles from cluster 11 :\n",
      "\n",
      "https://fa.wikipedia.org/wiki?curid=68917\n",
      "جلال‌الدین تاج\n",
      "https://fa.wikipedia.org/wiki?curid=13615\n",
      "Two sample Articles from cluster 12 :\n",
      "دریادار\n",
      "https://fa.wikipedia.org/wiki?curid=23829\n",
      " جک\n",
      "https://fa.wikipedia.org/wiki?curid=38507\n",
      "Two sample Articles from cluster 13 :\n",
      "قضیه اساسی جبر\n",
      "https://fa.wikipedia.org/wiki?curid=25451\n",
      "\n",
      "https://fa.wikipedia.org/wiki?curid=58527\n",
      "Two sample Articles from cluster 14 :\n",
      " (ارومیه)\n",
      "https://fa.wikipedia.org/wiki?curid=51438\n",
      "رود البه\n",
      "https://fa.wikipedia.org/wiki?curid=4555\n",
      "Two sample Articles from cluster 15 :\n",
      "\n",
      "https://fa.wikipedia.org/wiki?curid=50540\n",
      "\n",
      "https://fa.wikipedia.org/wiki?curid=50543\n",
      "Two sample Articles from cluster 16 :\n",
      "کشورهای تازه \n",
      "https://fa.wikipedia.org/wiki?curid=11634\n",
      "\n",
      "https://fa.wikipedia.org/wiki?curid=1530\n",
      "Two sample Articles from cluster 17 :\n",
      "مسیحیان ایران\n",
      "https://fa.wikipedia.org/wiki?curid=16099\n",
      "غلامحسین \n",
      "https://fa.wikipedia.org/wiki?curid=53853\n",
      "Two sample Articles from cluster 18 :\n",
      "دریای اژه\n",
      "https://fa.wikipedia.org/wiki?curid=56760\n",
      "تروگ \n",
      "https://fa.wikipedia.org/wiki?curid=31053\n",
      "Two sample Articles from cluster 19 :\n",
      "تیله\n",
      "https://fa.wikipedia.org/wiki?curid=29409\n",
      "\n",
      "https://fa.wikipedia.org/wiki?curid=55290\n",
      "Two sample Articles from cluster 20 :\n",
      "زکی \n",
      "https://fa.wikipedia.org/wiki?curid=58850\n",
      "تقی مدرسی\n",
      "https://fa.wikipedia.org/wiki?curid=37817\n",
      "Two sample Articles from cluster 21 :\n",
      "\n",
      "https://fa.wikipedia.org/wiki?curid=6140\n",
      "داریوش پیرنیاکان\n",
      "https://fa.wikipedia.org/wiki?curid=20858\n",
      "Two sample Articles from cluster 22 :\n",
      "\n",
      "https://fa.wikipedia.org/wiki?curid=45977\n",
      "\n",
      "https://fa.wikipedia.org/wiki?curid=29106\n",
      "Two sample Articles from cluster 23 :\n",
      "سس \n",
      "https://fa.wikipedia.org/wiki?curid=9558\n",
      "قصر جهان‌نما\n",
      "https://fa.wikipedia.org/wiki?curid=2900\n",
      "Two sample Articles from cluster 24 :\n",
      "قمری خاوری\n",
      "https://fa.wikipedia.org/wiki?curid=68228\n",
      "گاه‌شماری هجری خورشیدی\n",
      "https://fa.wikipedia.org/wiki?curid=12077\n",
      "Two sample Articles from cluster 25 :\n",
      "\n",
      "https://fa.wikipedia.org/wiki?curid=19872\n",
      "هرات\n",
      "https://fa.wikipedia.org/wiki?curid=49560\n",
      "Two sample Articles from cluster 26 :\n",
      "میله \n",
      "https://fa.wikipedia.org/wiki?curid=39286\n",
      "\n",
      "https://fa.wikipedia.org/wiki?curid=43644\n",
      "Two sample Articles from cluster 27 :\n",
      "\n",
      "https://fa.wikipedia.org/wiki?curid=21703\n",
      "بنی \n",
      "https://fa.wikipedia.org/wiki?curid=19032\n",
      "Two sample Articles from cluster 28 :\n",
      "ه ملی ایران\n",
      "https://fa.wikipedia.org/wiki?curid=8906\n",
      "نظارت استصوابی\n",
      "https://fa.wikipedia.org/wiki?curid=34855\n",
      "Two sample Articles from cluster 29 :\n",
      "طبقه‌بندی بین‌المللی آماری بیماری‌ها\n",
      "https://fa.wikipedia.org/wiki?curid=53077\n",
      "مدل‌سازی\n",
      "https://fa.wikipedia.org/wiki?curid=44867\n",
      "Two sample Articles from cluster 30 :\n",
      "هارون\n",
      "https://fa.wikipedia.org/wiki?curid=66137\n",
      "شیطان\n",
      "https://fa.wikipedia.org/wiki?curid=24376\n",
      "Two sample Articles from cluster 31 :\n",
      "\n",
      "https://fa.wikipedia.org/wiki?curid=11460\n",
      " ۷ ژوئیه ۲۰۰۵ لندن\n",
      "https://fa.wikipedia.org/wiki?curid=10732\n",
      "Two sample Articles from cluster 32 :\n",
      "واژه‌شناسی\n",
      "https://fa.wikipedia.org/wiki?curid=775\n",
      "افسر\n",
      "https://fa.wikipedia.org/wiki?curid=23928\n",
      "Two sample Articles from cluster 33 :\n",
      "مردمان دراویدی\n",
      "https://fa.wikipedia.org/wiki?curid=2342\n",
      "\n",
      "https://fa.wikipedia.org/wiki?curid=44922\n",
      "Two sample Articles from cluster 34 :\n",
      "۲۹ آبان\n",
      "https://fa.wikipedia.org/wiki?curid=20474\n",
      "۳ آبان\n",
      "https://fa.wikipedia.org/wiki?curid=20446\n",
      "Two sample Articles from cluster 35 :\n",
      "ویکتور امانوئل دوم\n",
      "https://fa.wikipedia.org/wiki?curid=36844\n",
      "بهرام چهارم\n",
      "https://fa.wikipedia.org/wiki?curid=19281\n",
      "Two sample Articles from cluster 36 :\n",
      "تبریزی\n",
      "https://fa.wikipedia.org/wiki?curid=54626\n",
      "احمد خانی\n",
      "https://fa.wikipedia.org/wiki?curid=9121\n",
      "Two sample Articles from cluster 37 :\n",
      "حسین \n",
      "https://fa.wikipedia.org/wiki?curid=44007\n",
      "انتخابات ریاست‌جمهوری ایران (۱۳۷۶)\n",
      "https://fa.wikipedia.org/wiki?curid=25860\n",
      "Two sample Articles from cluster 38 :\n",
      "هندسه هذلولوی\n",
      "https://fa.wikipedia.org/wiki?curid=11728\n",
      "اصل -هاتوری\n",
      "https://fa.wikipedia.org/wiki?curid=59271\n",
      "Two sample Articles from cluster 39 :\n",
      "بوی گندم\n",
      "https://fa.wikipedia.org/wiki?curid=57224\n",
      "تول\n",
      "https://fa.wikipedia.org/wiki?curid=26176\n",
      "Two sample Articles from cluster 40 :\n",
      "\n",
      "https://fa.wikipedia.org/wiki?curid=32933\n",
      "\n",
      "https://fa.wikipedia.org/wiki?curid=68883\n",
      "Two sample Articles from cluster 41 :\n",
      "\n",
      "https://fa.wikipedia.org/wiki?curid=32116\n",
      "دسامبر\n",
      "https://fa.wikipedia.org/wiki?curid=9096\n",
      "Two sample Articles from cluster 42 :\n",
      " (امارات متحده عربی)\n",
      "https://fa.wikipedia.org/wiki?curid=46419\n",
      "تالیا\n",
      "https://fa.wikipedia.org/wiki?curid=67722\n",
      "Two sample Articles from cluster 43 :\n",
      "مسجد جن\n",
      "https://fa.wikipedia.org/wiki?curid=67730\n",
      "معمار سنان\n",
      "https://fa.wikipedia.org/wiki?curid=31501\n",
      "Two sample Articles from cluster 44 :\n",
      "سنگان (تهران)\n",
      "https://fa.wikipedia.org/wiki?curid=50883\n",
      "بازار تهران\n",
      "https://fa.wikipedia.org/wiki?curid=51738\n",
      "Two sample Articles from cluster 45 :\n",
      "دانشگاه علامه طباطبایی\n",
      "https://fa.wikipedia.org/wiki?curid=38516\n",
      "شهرک دانشگاه (اهواز)\n",
      "https://fa.wikipedia.org/wiki?curid=28790\n",
      "Two sample Articles from cluster 46 :\n",
      "شهرستان بوکان\n",
      "https://fa.wikipedia.org/wiki?curid=2814\n",
      "دهستان \n",
      "https://fa.wikipedia.org/wiki?curid=7627\n",
      "Two sample Articles from cluster 47 :\n",
      " (ابهام‌زدایی)\n",
      "https://fa.wikipedia.org/wiki?curid=28630\n",
      "سده (ابهام‌زدایی)\n",
      "https://fa.wikipedia.org/wiki?curid=11346\n",
      "Two sample Articles from cluster 48 :\n",
      "قوانین نفوذ فیک\n",
      "https://fa.wikipedia.org/wiki?curid=57209\n",
      "هسته اتم\n",
      "https://fa.wikipedia.org/wiki?curid=19930\n",
      "Two sample Articles from cluster 49 :\n",
      "اتحاد ۹۰/سبزها\n",
      "https://fa.wikipedia.org/wiki?curid=25027\n",
      "کنگره \n",
      "https://fa.wikipedia.org/wiki?curid=45464\n",
      "Two sample Articles from cluster 50 :\n",
      "سال کبیسه\n",
      "https://fa.wikipedia.org/wiki?curid=11760\n",
      "۳۱ مارس\n",
      "https://fa.wikipedia.org/wiki?curid=52414\n",
      "Two sample Articles from cluster 51 :\n",
      "\n",
      "https://fa.wikipedia.org/wiki?curid=7673\n",
      "\n",
      "https://fa.wikipedia.org/wiki?curid=5583\n",
      "Two sample Articles from cluster 52 :\n",
      "خیابان بیستون (رشت)\n",
      "https://fa.wikipedia.org/wiki?curid=29125\n",
      "خیابان شریعتی (تبریز)\n",
      "https://fa.wikipedia.org/wiki?curid=30150\n",
      "Two sample Articles from cluster 53 :\n",
      " دور\n",
      "https://fa.wikipedia.org/wiki?curid=9681\n",
      "سوروس اسنیپ\n",
      "https://fa.wikipedia.org/wiki?curid=13885\n",
      "Two sample Articles from cluster 54 :\n",
      "میرجاوه\n",
      "https://fa.wikipedia.org/wiki?curid=35067\n",
      "کامیاران\n",
      "https://fa.wikipedia.org/wiki?curid=11866\n",
      "Two sample Articles from cluster 55 :\n",
      "۷ خرداد\n",
      "https://fa.wikipedia.org/wiki?curid=20647\n",
      "۲۲ خرداد\n",
      "https://fa.wikipedia.org/wiki?curid=20662\n",
      "Two sample Articles from cluster 56 :\n",
      "تنگه جورجیا\n",
      "https://fa.wikipedia.org/wiki?curid=26839\n",
      "ملانزی\n",
      "https://fa.wikipedia.org/wiki?curid=55967\n",
      "Two sample Articles from cluster 57 :\n",
      "انگور\n",
      "https://fa.wikipedia.org/wiki?curid=11465\n",
      "نی (گیاه)\n",
      "https://fa.wikipedia.org/wiki?curid=7641\n",
      "Two sample Articles from cluster 58 :\n",
      "۶ آوریل\n",
      "https://fa.wikipedia.org/wiki?curid=52421\n",
      "۱۹ آوریل\n",
      "https://fa.wikipedia.org/wiki?curid=52434\n",
      "Two sample Articles from cluster 59 :\n",
      "ویکی‌پدیای فارسی\n",
      "https://fa.wikipedia.org/wiki?curid=23665\n",
      "لینوکس شریف\n",
      "https://fa.wikipedia.org/wiki?curid=30566\n",
      "Two sample Articles from cluster 60 :\n",
      " \n",
      "https://fa.wikipedia.org/wiki?curid=20936\n",
      " پی-۴۷ \n",
      "https://fa.wikipedia.org/wiki?curid=21094\n",
      "Two sample Articles from cluster 61 :\n",
      "معادلات -\n",
      "https://fa.wikipedia.org/wiki?curid=44014\n",
      "قشر مغز\n",
      "https://fa.wikipedia.org/wiki?curid=29363\n",
      "Two sample Articles from cluster 62 :\n",
      "هنر، حقیقت  سیاست\n",
      "https://fa.wikipedia.org/wiki?curid=20198\n",
      "فهرست برندگان جایزه صلح نوبل\n",
      "https://fa.wikipedia.org/wiki?curid=68032\n",
      "Two sample Articles from cluster 63 :\n",
      "هرزنامه\n",
      "https://fa.wikipedia.org/wiki?curid=5844\n",
      "حقوق خانواده\n",
      "https://fa.wikipedia.org/wiki?curid=53034\n",
      "Two sample Articles from cluster 64 :\n",
      "\n",
      "https://fa.wikipedia.org/wiki?curid=51235\n",
      "کن\n",
      "https://fa.wikipedia.org/wiki?curid=25188\n",
      "Two sample Articles from cluster 65 :\n",
      "منطقه‌های مراکش\n",
      "https://fa.wikipedia.org/wiki?curid=23746\n",
      "\n",
      "https://fa.wikipedia.org/wiki?curid=37728\n",
      "Two sample Articles from cluster 66 :\n",
      "رادیو بی‌بی‌سی\n",
      "https://fa.wikipedia.org/wiki?curid=11928\n",
      "\n",
      "https://fa.wikipedia.org/wiki?curid=25545\n",
      "Two sample Articles from cluster 67 :\n",
      "\n",
      "https://fa.wikipedia.org/wiki?curid=18482\n",
      " ()\n",
      "https://fa.wikipedia.org/wiki?curid=18561\n",
      "Two sample Articles from cluster 68 :\n",
      "تابع\n",
      "https://fa.wikipedia.org/wiki?curid=18893\n",
      "توان (ریاضی)\n",
      "https://fa.wikipedia.org/wiki?curid=46385\n",
      "Two sample Articles from cluster 69 :\n",
      "دربند (ازنا)\n",
      "https://fa.wikipedia.org/wiki?curid=33310\n",
      "سهند\n",
      "https://fa.wikipedia.org/wiki?curid=39325\n",
      "Two sample Articles from cluster 70 :\n",
      "یان\n",
      "https://fa.wikipedia.org/wiki?curid=5398\n",
      "شمع (یکا)\n",
      "https://fa.wikipedia.org/wiki?curid=39139\n",
      "Two sample Articles from cluster 71 :\n",
      ".ac\n",
      "https://fa.wikipedia.org/wiki?curid=62450\n",
      ".wf\n",
      "https://fa.wikipedia.org/wiki?curid=66134\n",
      "Two sample Articles from cluster 72 :\n",
      "بینالود\n",
      "https://fa.wikipedia.org/wiki?curid=48917\n",
      "پل \n",
      "https://fa.wikipedia.org/wiki?curid=52795\n",
      "Two sample Articles from cluster 73 :\n",
      "اسکندر \n",
      "https://fa.wikipedia.org/wiki?curid=4066\n",
      "اروپا  عصر ادیان بزرگ\n",
      "https://fa.wikipedia.org/wiki?curid=44708\n",
      "Two sample Articles from cluster 74 :\n",
      "\n",
      "https://fa.wikipedia.org/wiki?curid=21953\n",
      " پهلوی\n",
      "https://fa.wikipedia.org/wiki?curid=33328\n",
      "Two sample Articles from cluster 75 :\n",
      "یاسر عرفات\n",
      "https://fa.wikipedia.org/wiki?curid=53858\n",
      "هرمان گورینگ\n",
      "https://fa.wikipedia.org/wiki?curid=15842\n",
      "Two sample Articles from cluster 76 :\n",
      " \n",
      "https://fa.wikipedia.org/wiki?curid=23561\n",
      "صفاریان\n",
      "https://fa.wikipedia.org/wiki?curid=1320\n",
      "Two sample Articles from cluster 77 :\n",
      "استان قادسیه\n",
      "https://fa.wikipedia.org/wiki?curid=4040\n",
      "استان \n",
      "https://fa.wikipedia.org/wiki?curid=5460\n",
      "Two sample Articles from cluster 78 :\n",
      "شیر سنگی همدان\n",
      "https://fa.wikipedia.org/wiki?curid=23997\n",
      "سردر قیصریه\n",
      "https://fa.wikipedia.org/wiki?curid=17087\n",
      "Two sample Articles from cluster 79 :\n",
      "\n",
      "https://fa.wikipedia.org/wiki?curid=1618\n",
      "ایمیل\n",
      "https://fa.wikipedia.org/wiki?curid=5845\n",
      "Two sample Articles from cluster 80 :\n",
      "جمال عبد\n",
      "https://fa.wikipedia.org/wiki?curid=40062\n",
      "عمر مختار\n",
      "https://fa.wikipedia.org/wiki?curid=20107\n",
      "Two sample Articles from cluster 81 :\n",
      "\n",
      "https://fa.wikipedia.org/wiki?curid=27854\n",
      "سروان\n",
      "https://fa.wikipedia.org/wiki?curid=1939\n",
      "Two sample Articles from cluster 82 :\n",
      "هرنگ\n",
      "https://fa.wikipedia.org/wiki?curid=6339\n",
      " خاکستری بزرگ\n",
      "https://fa.wikipedia.org/wiki?curid=12114\n",
      "Two sample Articles from cluster 83 :\n",
      "حدید\n",
      "https://fa.wikipedia.org/wiki?curid=40332\n",
      "\n",
      "https://fa.wikipedia.org/wiki?curid=40349\n",
      "Two sample Articles from cluster 84 :\n",
      "فهرست سیاهپوستان آمریکایی\n",
      "https://fa.wikipedia.org/wiki?curid=19124\n",
      "فهرست اسیدها\n",
      "https://fa.wikipedia.org/wiki?curid=13102\n",
      "Two sample Articles from cluster 85 :\n",
      "خطبه سرا\n",
      "https://fa.wikipedia.org/wiki?curid=45789\n",
      "\n",
      "https://fa.wikipedia.org/wiki?curid=30517\n",
      "Two sample Articles from cluster 86 :\n",
      "شله زرد\n",
      "https://fa.wikipedia.org/wiki?curid=54227\n",
      "سرخ \n",
      "https://fa.wikipedia.org/wiki?curid=61183\n",
      "Two sample Articles from cluster 87 :\n",
      "\n",
      "https://fa.wikipedia.org/wiki?curid=10699\n",
      "پوشاک لری\n",
      "https://fa.wikipedia.org/wiki?curid=2124\n",
      "Two sample Articles from cluster 88 :\n",
      "کوهمره سرخی\n",
      "https://fa.wikipedia.org/wiki?curid=16089\n",
      "کردی مکریانی\n",
      "https://fa.wikipedia.org/wiki?curid=12314\n",
      "Two sample Articles from cluster 89 :\n",
      "  (پرتغال)\n",
      "https://fa.wikipedia.org/wiki?curid=19438\n",
      "\n",
      "https://fa.wikipedia.org/wiki?curid=18506\n",
      "Two sample Articles from cluster 90 :\n",
      "شهاب\n",
      "https://fa.wikipedia.org/wiki?curid=45806\n",
      "تونی \n",
      "https://fa.wikipedia.org/wiki?curid=16308\n",
      "Two sample Articles from cluster 91 :\n",
      "کنتیکت\n",
      "https://fa.wikipedia.org/wiki?curid=6800\n",
      "بادن-بادن\n",
      "https://fa.wikipedia.org/wiki?curid=25010\n",
      "Two sample Articles from cluster 92 :\n",
      "تاوه (خمیر)\n",
      "https://fa.wikipedia.org/wiki?curid=57018\n",
      " (بندر لنگه)\n",
      "https://fa.wikipedia.org/wiki?curid=40795\n",
      "Two sample Articles from cluster 93 :\n",
      "\n",
      "https://fa.wikipedia.org/wiki?curid=4028\n",
      "خطای  اجرا\n",
      "https://fa.wikipedia.org/wiki?curid=68339\n",
      "Two sample Articles from cluster 94 :\n",
      "  \n",
      "https://fa.wikipedia.org/wiki?curid=8821\n",
      "دادگاه بین‌المللی کیفری  رواندا\n",
      "https://fa.wikipedia.org/wiki?curid=21714\n",
      "Two sample Articles from cluster 95 :\n",
      "۱۳ ژانویه\n",
      "https://fa.wikipedia.org/wiki?curid=52323\n",
      "۶ ژانویه\n",
      "https://fa.wikipedia.org/wiki?curid=52318\n",
      "Two sample Articles from cluster 96 :\n",
      "ناحیه \n",
      "https://fa.wikipedia.org/wiki?curid=3295\n",
      "\n",
      "https://fa.wikipedia.org/wiki?curid=43706\n",
      "Two sample Articles from cluster 97 :\n",
      "هدایت الکتریکی خاک\n",
      "https://fa.wikipedia.org/wiki?curid=33541\n",
      " صد چشم\n",
      "https://fa.wikipedia.org/wiki?curid=11968\n",
      "Two sample Articles from cluster 98 :\n",
      "\n",
      "https://fa.wikipedia.org/wiki?curid=2411\n",
      "کمدی \n",
      "https://fa.wikipedia.org/wiki?curid=36924\n",
      "Two sample Articles from cluster 99 :\n",
      "لیلا فروهر\n",
      "https://fa.wikipedia.org/wiki?curid=23706\n",
      "بدنام (فیلم ۱۹۴۶)\n",
      "https://fa.wikipedia.org/wiki?curid=11686\n"
     ]
    }
   ],
   "source": [
    "def take_10(group):\n",
    "  list_art = list(group[1])\n",
    "  \n",
    "  return_number = 10\n",
    "  if (len(list_art) < 10):\n",
    "    return_number = len(list_art)\n",
    "  return (group[0], list_art[0:return_number])\n",
    "  \n",
    "# Collect 10 documents from each cluster and print them\n",
    "doc_10 = dict(articles_tf_idf_vectors.map(centroid_assigner).groupByKey().sortByKey().map(take_10).collect())\n",
    "for i in range(CENTROID_NUM):\n",
    "  print(\"Two sample Articles from cluster \" + str(i) + \" :\")\n",
    "  print(doc_10[i][0]['title'])\n",
    "  print(doc_10[i][0]['url'])\n",
    "  print(doc_10[i][1]['title'])\n",
    "  print(doc_10[i][1]['url'])"
   ]
  },
  {
   "cell_type": "code",
   "execution_count": 26,
   "metadata": {
    "id": "adZifUwxDPGL"
   },
   "outputs": [],
   "source": []
  }
 ],
 "metadata": {
  "application/vnd.databricks.v1+notebook": {
   "dashboards": [],
   "language": "python",
   "notebookName": "SUT - Data Mining Spark Exercise",
   "notebookOrigID": 3381799072824359,
   "widgets": {}
  },
  "colab": {
   "collapsed_sections": [],
   "name": "SUT - Data Mining Spark Exercise (2).ipynb",
   "provenance": [],
   "toc_visible": true
  },
  "kernelspec": {
   "display_name": "Python 3",
   "language": "python",
   "name": "python3"
  },
  "language_info": {
   "codemirror_mode": {
    "name": "ipython",
    "version": 3
   },
   "file_extension": ".py",
   "mimetype": "text/x-python",
   "name": "python",
   "nbconvert_exporter": "python",
   "pygments_lexer": "ipython3",
   "version": "3.8.3"
  }
 },
 "nbformat": 4,
 "nbformat_minor": 1
}
